{
  "nbformat": 4,
  "nbformat_minor": 0,
  "metadata": {
    "colab": {
      "provenance": []
    },
    "kernelspec": {
      "name": "python3",
      "display_name": "Python 3"
    },
    "language_info": {
      "name": "python"
    },
    "widgets": {
      "application/vnd.jupyter.widget-state+json": {
        "658b36f881244f2a8484ccda773c0242": {
          "model_module": "@jupyter-widgets/controls",
          "model_name": "HBoxModel",
          "model_module_version": "1.5.0",
          "state": {
            "_dom_classes": [],
            "_model_module": "@jupyter-widgets/controls",
            "_model_module_version": "1.5.0",
            "_model_name": "HBoxModel",
            "_view_count": null,
            "_view_module": "@jupyter-widgets/controls",
            "_view_module_version": "1.5.0",
            "_view_name": "HBoxView",
            "box_style": "",
            "children": [
              "IPY_MODEL_98cca762b11049a9b48f6e47efb3a0bd",
              "IPY_MODEL_736ab97646d946c4ae64b904c81c90f1",
              "IPY_MODEL_391fc252c52b43478b01fcbb810ee9bd"
            ],
            "layout": "IPY_MODEL_316516e6a4f4465a8845e35ae75c1fd5"
          }
        },
        "98cca762b11049a9b48f6e47efb3a0bd": {
          "model_module": "@jupyter-widgets/controls",
          "model_name": "HTMLModel",
          "model_module_version": "1.5.0",
          "state": {
            "_dom_classes": [],
            "_model_module": "@jupyter-widgets/controls",
            "_model_module_version": "1.5.0",
            "_model_name": "HTMLModel",
            "_view_count": null,
            "_view_module": "@jupyter-widgets/controls",
            "_view_module_version": "1.5.0",
            "_view_name": "HTMLView",
            "description": "",
            "description_tooltip": null,
            "layout": "IPY_MODEL_0218588a51314f158749cf67466d07da",
            "placeholder": "​",
            "style": "IPY_MODEL_052cdaf3b12847489e6ca5eebf7532b6",
            "value": "config.json: 100%"
          }
        },
        "736ab97646d946c4ae64b904c81c90f1": {
          "model_module": "@jupyter-widgets/controls",
          "model_name": "FloatProgressModel",
          "model_module_version": "1.5.0",
          "state": {
            "_dom_classes": [],
            "_model_module": "@jupyter-widgets/controls",
            "_model_module_version": "1.5.0",
            "_model_name": "FloatProgressModel",
            "_view_count": null,
            "_view_module": "@jupyter-widgets/controls",
            "_view_module_version": "1.5.0",
            "_view_name": "ProgressView",
            "bar_style": "success",
            "description": "",
            "description_tooltip": null,
            "layout": "IPY_MODEL_66ea1b7fee7b4b12a8638426db6fc2c3",
            "max": 507,
            "min": 0,
            "orientation": "horizontal",
            "style": "IPY_MODEL_73f7eebf9d2a484e817cc6737981bc06",
            "value": 507
          }
        },
        "391fc252c52b43478b01fcbb810ee9bd": {
          "model_module": "@jupyter-widgets/controls",
          "model_name": "HTMLModel",
          "model_module_version": "1.5.0",
          "state": {
            "_dom_classes": [],
            "_model_module": "@jupyter-widgets/controls",
            "_model_module_version": "1.5.0",
            "_model_name": "HTMLModel",
            "_view_count": null,
            "_view_module": "@jupyter-widgets/controls",
            "_view_module_version": "1.5.0",
            "_view_name": "HTMLView",
            "description": "",
            "description_tooltip": null,
            "layout": "IPY_MODEL_d27a369395e44b39b38727306f7139e3",
            "placeholder": "​",
            "style": "IPY_MODEL_b53aac7712bc4614a03c3532cc4824a0",
            "value": " 507/507 [00:00&lt;00:00, 25.8kB/s]"
          }
        },
        "316516e6a4f4465a8845e35ae75c1fd5": {
          "model_module": "@jupyter-widgets/base",
          "model_name": "LayoutModel",
          "model_module_version": "1.2.0",
          "state": {
            "_model_module": "@jupyter-widgets/base",
            "_model_module_version": "1.2.0",
            "_model_name": "LayoutModel",
            "_view_count": null,
            "_view_module": "@jupyter-widgets/base",
            "_view_module_version": "1.2.0",
            "_view_name": "LayoutView",
            "align_content": null,
            "align_items": null,
            "align_self": null,
            "border": null,
            "bottom": null,
            "display": null,
            "flex": null,
            "flex_flow": null,
            "grid_area": null,
            "grid_auto_columns": null,
            "grid_auto_flow": null,
            "grid_auto_rows": null,
            "grid_column": null,
            "grid_gap": null,
            "grid_row": null,
            "grid_template_areas": null,
            "grid_template_columns": null,
            "grid_template_rows": null,
            "height": null,
            "justify_content": null,
            "justify_items": null,
            "left": null,
            "margin": null,
            "max_height": null,
            "max_width": null,
            "min_height": null,
            "min_width": null,
            "object_fit": null,
            "object_position": null,
            "order": null,
            "overflow": null,
            "overflow_x": null,
            "overflow_y": null,
            "padding": null,
            "right": null,
            "top": null,
            "visibility": null,
            "width": null
          }
        },
        "0218588a51314f158749cf67466d07da": {
          "model_module": "@jupyter-widgets/base",
          "model_name": "LayoutModel",
          "model_module_version": "1.2.0",
          "state": {
            "_model_module": "@jupyter-widgets/base",
            "_model_module_version": "1.2.0",
            "_model_name": "LayoutModel",
            "_view_count": null,
            "_view_module": "@jupyter-widgets/base",
            "_view_module_version": "1.2.0",
            "_view_name": "LayoutView",
            "align_content": null,
            "align_items": null,
            "align_self": null,
            "border": null,
            "bottom": null,
            "display": null,
            "flex": null,
            "flex_flow": null,
            "grid_area": null,
            "grid_auto_columns": null,
            "grid_auto_flow": null,
            "grid_auto_rows": null,
            "grid_column": null,
            "grid_gap": null,
            "grid_row": null,
            "grid_template_areas": null,
            "grid_template_columns": null,
            "grid_template_rows": null,
            "height": null,
            "justify_content": null,
            "justify_items": null,
            "left": null,
            "margin": null,
            "max_height": null,
            "max_width": null,
            "min_height": null,
            "min_width": null,
            "object_fit": null,
            "object_position": null,
            "order": null,
            "overflow": null,
            "overflow_x": null,
            "overflow_y": null,
            "padding": null,
            "right": null,
            "top": null,
            "visibility": null,
            "width": null
          }
        },
        "052cdaf3b12847489e6ca5eebf7532b6": {
          "model_module": "@jupyter-widgets/controls",
          "model_name": "DescriptionStyleModel",
          "model_module_version": "1.5.0",
          "state": {
            "_model_module": "@jupyter-widgets/controls",
            "_model_module_version": "1.5.0",
            "_model_name": "DescriptionStyleModel",
            "_view_count": null,
            "_view_module": "@jupyter-widgets/base",
            "_view_module_version": "1.2.0",
            "_view_name": "StyleView",
            "description_width": ""
          }
        },
        "66ea1b7fee7b4b12a8638426db6fc2c3": {
          "model_module": "@jupyter-widgets/base",
          "model_name": "LayoutModel",
          "model_module_version": "1.2.0",
          "state": {
            "_model_module": "@jupyter-widgets/base",
            "_model_module_version": "1.2.0",
            "_model_name": "LayoutModel",
            "_view_count": null,
            "_view_module": "@jupyter-widgets/base",
            "_view_module_version": "1.2.0",
            "_view_name": "LayoutView",
            "align_content": null,
            "align_items": null,
            "align_self": null,
            "border": null,
            "bottom": null,
            "display": null,
            "flex": null,
            "flex_flow": null,
            "grid_area": null,
            "grid_auto_columns": null,
            "grid_auto_flow": null,
            "grid_auto_rows": null,
            "grid_column": null,
            "grid_gap": null,
            "grid_row": null,
            "grid_template_areas": null,
            "grid_template_columns": null,
            "grid_template_rows": null,
            "height": null,
            "justify_content": null,
            "justify_items": null,
            "left": null,
            "margin": null,
            "max_height": null,
            "max_width": null,
            "min_height": null,
            "min_width": null,
            "object_fit": null,
            "object_position": null,
            "order": null,
            "overflow": null,
            "overflow_x": null,
            "overflow_y": null,
            "padding": null,
            "right": null,
            "top": null,
            "visibility": null,
            "width": null
          }
        },
        "73f7eebf9d2a484e817cc6737981bc06": {
          "model_module": "@jupyter-widgets/controls",
          "model_name": "ProgressStyleModel",
          "model_module_version": "1.5.0",
          "state": {
            "_model_module": "@jupyter-widgets/controls",
            "_model_module_version": "1.5.0",
            "_model_name": "ProgressStyleModel",
            "_view_count": null,
            "_view_module": "@jupyter-widgets/base",
            "_view_module_version": "1.2.0",
            "_view_name": "StyleView",
            "bar_color": null,
            "description_width": ""
          }
        },
        "d27a369395e44b39b38727306f7139e3": {
          "model_module": "@jupyter-widgets/base",
          "model_name": "LayoutModel",
          "model_module_version": "1.2.0",
          "state": {
            "_model_module": "@jupyter-widgets/base",
            "_model_module_version": "1.2.0",
            "_model_name": "LayoutModel",
            "_view_count": null,
            "_view_module": "@jupyter-widgets/base",
            "_view_module_version": "1.2.0",
            "_view_name": "LayoutView",
            "align_content": null,
            "align_items": null,
            "align_self": null,
            "border": null,
            "bottom": null,
            "display": null,
            "flex": null,
            "flex_flow": null,
            "grid_area": null,
            "grid_auto_columns": null,
            "grid_auto_flow": null,
            "grid_auto_rows": null,
            "grid_column": null,
            "grid_gap": null,
            "grid_row": null,
            "grid_template_areas": null,
            "grid_template_columns": null,
            "grid_template_rows": null,
            "height": null,
            "justify_content": null,
            "justify_items": null,
            "left": null,
            "margin": null,
            "max_height": null,
            "max_width": null,
            "min_height": null,
            "min_width": null,
            "object_fit": null,
            "object_position": null,
            "order": null,
            "overflow": null,
            "overflow_x": null,
            "overflow_y": null,
            "padding": null,
            "right": null,
            "top": null,
            "visibility": null,
            "width": null
          }
        },
        "b53aac7712bc4614a03c3532cc4824a0": {
          "model_module": "@jupyter-widgets/controls",
          "model_name": "DescriptionStyleModel",
          "model_module_version": "1.5.0",
          "state": {
            "_model_module": "@jupyter-widgets/controls",
            "_model_module_version": "1.5.0",
            "_model_name": "DescriptionStyleModel",
            "_view_count": null,
            "_view_module": "@jupyter-widgets/base",
            "_view_module_version": "1.2.0",
            "_view_name": "StyleView",
            "description_width": ""
          }
        },
        "e0790bd643df4e398226421e1eef22e7": {
          "model_module": "@jupyter-widgets/controls",
          "model_name": "HBoxModel",
          "model_module_version": "1.5.0",
          "state": {
            "_dom_classes": [],
            "_model_module": "@jupyter-widgets/controls",
            "_model_module_version": "1.5.0",
            "_model_name": "HBoxModel",
            "_view_count": null,
            "_view_module": "@jupyter-widgets/controls",
            "_view_module_version": "1.5.0",
            "_view_name": "HBoxView",
            "box_style": "",
            "children": [
              "IPY_MODEL_85043272666646e4a227c5e14e0c8954",
              "IPY_MODEL_55a82b535ca9413db7bcd490c6431940",
              "IPY_MODEL_fe8f9ffc3a154f0ca8859d86b4320e85"
            ],
            "layout": "IPY_MODEL_3065bab6a0674fdb8153706a3520e5ec"
          }
        },
        "85043272666646e4a227c5e14e0c8954": {
          "model_module": "@jupyter-widgets/controls",
          "model_name": "HTMLModel",
          "model_module_version": "1.5.0",
          "state": {
            "_dom_classes": [],
            "_model_module": "@jupyter-widgets/controls",
            "_model_module_version": "1.5.0",
            "_model_name": "HTMLModel",
            "_view_count": null,
            "_view_module": "@jupyter-widgets/controls",
            "_view_module_version": "1.5.0",
            "_view_name": "HTMLView",
            "description": "",
            "description_tooltip": null,
            "layout": "IPY_MODEL_7e997b4a422d4c15ba966092d41a7a58",
            "placeholder": "​",
            "style": "IPY_MODEL_94b59abd89ab4be7a97085a52e7bbf34",
            "value": "spiece.model: 100%"
          }
        },
        "55a82b535ca9413db7bcd490c6431940": {
          "model_module": "@jupyter-widgets/controls",
          "model_name": "FloatProgressModel",
          "model_module_version": "1.5.0",
          "state": {
            "_dom_classes": [],
            "_model_module": "@jupyter-widgets/controls",
            "_model_module_version": "1.5.0",
            "_model_name": "FloatProgressModel",
            "_view_count": null,
            "_view_module": "@jupyter-widgets/controls",
            "_view_module_version": "1.5.0",
            "_view_name": "ProgressView",
            "bar_style": "success",
            "description": "",
            "description_tooltip": null,
            "layout": "IPY_MODEL_978c22c9ca674259a6b2491cc730f4b8",
            "max": 5646064,
            "min": 0,
            "orientation": "horizontal",
            "style": "IPY_MODEL_56152056513d460b9471bafaf0e56045",
            "value": 5646064
          }
        },
        "fe8f9ffc3a154f0ca8859d86b4320e85": {
          "model_module": "@jupyter-widgets/controls",
          "model_name": "HTMLModel",
          "model_module_version": "1.5.0",
          "state": {
            "_dom_classes": [],
            "_model_module": "@jupyter-widgets/controls",
            "_model_module_version": "1.5.0",
            "_model_name": "HTMLModel",
            "_view_count": null,
            "_view_module": "@jupyter-widgets/controls",
            "_view_module_version": "1.5.0",
            "_view_name": "HTMLView",
            "description": "",
            "description_tooltip": null,
            "layout": "IPY_MODEL_5321f531314a427fabcfba54b16143d8",
            "placeholder": "​",
            "style": "IPY_MODEL_65ca7bb5d3604e98a53c226765085cce",
            "value": " 5.65M/5.65M [00:00&lt;00:00, 11.5MB/s]"
          }
        },
        "3065bab6a0674fdb8153706a3520e5ec": {
          "model_module": "@jupyter-widgets/base",
          "model_name": "LayoutModel",
          "model_module_version": "1.2.0",
          "state": {
            "_model_module": "@jupyter-widgets/base",
            "_model_module_version": "1.2.0",
            "_model_name": "LayoutModel",
            "_view_count": null,
            "_view_module": "@jupyter-widgets/base",
            "_view_module_version": "1.2.0",
            "_view_name": "LayoutView",
            "align_content": null,
            "align_items": null,
            "align_self": null,
            "border": null,
            "bottom": null,
            "display": null,
            "flex": null,
            "flex_flow": null,
            "grid_area": null,
            "grid_auto_columns": null,
            "grid_auto_flow": null,
            "grid_auto_rows": null,
            "grid_column": null,
            "grid_gap": null,
            "grid_row": null,
            "grid_template_areas": null,
            "grid_template_columns": null,
            "grid_template_rows": null,
            "height": null,
            "justify_content": null,
            "justify_items": null,
            "left": null,
            "margin": null,
            "max_height": null,
            "max_width": null,
            "min_height": null,
            "min_width": null,
            "object_fit": null,
            "object_position": null,
            "order": null,
            "overflow": null,
            "overflow_x": null,
            "overflow_y": null,
            "padding": null,
            "right": null,
            "top": null,
            "visibility": null,
            "width": null
          }
        },
        "7e997b4a422d4c15ba966092d41a7a58": {
          "model_module": "@jupyter-widgets/base",
          "model_name": "LayoutModel",
          "model_module_version": "1.2.0",
          "state": {
            "_model_module": "@jupyter-widgets/base",
            "_model_module_version": "1.2.0",
            "_model_name": "LayoutModel",
            "_view_count": null,
            "_view_module": "@jupyter-widgets/base",
            "_view_module_version": "1.2.0",
            "_view_name": "LayoutView",
            "align_content": null,
            "align_items": null,
            "align_self": null,
            "border": null,
            "bottom": null,
            "display": null,
            "flex": null,
            "flex_flow": null,
            "grid_area": null,
            "grid_auto_columns": null,
            "grid_auto_flow": null,
            "grid_auto_rows": null,
            "grid_column": null,
            "grid_gap": null,
            "grid_row": null,
            "grid_template_areas": null,
            "grid_template_columns": null,
            "grid_template_rows": null,
            "height": null,
            "justify_content": null,
            "justify_items": null,
            "left": null,
            "margin": null,
            "max_height": null,
            "max_width": null,
            "min_height": null,
            "min_width": null,
            "object_fit": null,
            "object_position": null,
            "order": null,
            "overflow": null,
            "overflow_x": null,
            "overflow_y": null,
            "padding": null,
            "right": null,
            "top": null,
            "visibility": null,
            "width": null
          }
        },
        "94b59abd89ab4be7a97085a52e7bbf34": {
          "model_module": "@jupyter-widgets/controls",
          "model_name": "DescriptionStyleModel",
          "model_module_version": "1.5.0",
          "state": {
            "_model_module": "@jupyter-widgets/controls",
            "_model_module_version": "1.5.0",
            "_model_name": "DescriptionStyleModel",
            "_view_count": null,
            "_view_module": "@jupyter-widgets/base",
            "_view_module_version": "1.2.0",
            "_view_name": "StyleView",
            "description_width": ""
          }
        },
        "978c22c9ca674259a6b2491cc730f4b8": {
          "model_module": "@jupyter-widgets/base",
          "model_name": "LayoutModel",
          "model_module_version": "1.2.0",
          "state": {
            "_model_module": "@jupyter-widgets/base",
            "_model_module_version": "1.2.0",
            "_model_name": "LayoutModel",
            "_view_count": null,
            "_view_module": "@jupyter-widgets/base",
            "_view_module_version": "1.2.0",
            "_view_name": "LayoutView",
            "align_content": null,
            "align_items": null,
            "align_self": null,
            "border": null,
            "bottom": null,
            "display": null,
            "flex": null,
            "flex_flow": null,
            "grid_area": null,
            "grid_auto_columns": null,
            "grid_auto_flow": null,
            "grid_auto_rows": null,
            "grid_column": null,
            "grid_gap": null,
            "grid_row": null,
            "grid_template_areas": null,
            "grid_template_columns": null,
            "grid_template_rows": null,
            "height": null,
            "justify_content": null,
            "justify_items": null,
            "left": null,
            "margin": null,
            "max_height": null,
            "max_width": null,
            "min_height": null,
            "min_width": null,
            "object_fit": null,
            "object_position": null,
            "order": null,
            "overflow": null,
            "overflow_x": null,
            "overflow_y": null,
            "padding": null,
            "right": null,
            "top": null,
            "visibility": null,
            "width": null
          }
        },
        "56152056513d460b9471bafaf0e56045": {
          "model_module": "@jupyter-widgets/controls",
          "model_name": "ProgressStyleModel",
          "model_module_version": "1.5.0",
          "state": {
            "_model_module": "@jupyter-widgets/controls",
            "_model_module_version": "1.5.0",
            "_model_name": "ProgressStyleModel",
            "_view_count": null,
            "_view_module": "@jupyter-widgets/base",
            "_view_module_version": "1.2.0",
            "_view_name": "StyleView",
            "bar_color": null,
            "description_width": ""
          }
        },
        "5321f531314a427fabcfba54b16143d8": {
          "model_module": "@jupyter-widgets/base",
          "model_name": "LayoutModel",
          "model_module_version": "1.2.0",
          "state": {
            "_model_module": "@jupyter-widgets/base",
            "_model_module_version": "1.2.0",
            "_model_name": "LayoutModel",
            "_view_count": null,
            "_view_module": "@jupyter-widgets/base",
            "_view_module_version": "1.2.0",
            "_view_name": "LayoutView",
            "align_content": null,
            "align_items": null,
            "align_self": null,
            "border": null,
            "bottom": null,
            "display": null,
            "flex": null,
            "flex_flow": null,
            "grid_area": null,
            "grid_auto_columns": null,
            "grid_auto_flow": null,
            "grid_auto_rows": null,
            "grid_column": null,
            "grid_gap": null,
            "grid_row": null,
            "grid_template_areas": null,
            "grid_template_columns": null,
            "grid_template_rows": null,
            "height": null,
            "justify_content": null,
            "justify_items": null,
            "left": null,
            "margin": null,
            "max_height": null,
            "max_width": null,
            "min_height": null,
            "min_width": null,
            "object_fit": null,
            "object_position": null,
            "order": null,
            "overflow": null,
            "overflow_x": null,
            "overflow_y": null,
            "padding": null,
            "right": null,
            "top": null,
            "visibility": null,
            "width": null
          }
        },
        "65ca7bb5d3604e98a53c226765085cce": {
          "model_module": "@jupyter-widgets/controls",
          "model_name": "DescriptionStyleModel",
          "model_module_version": "1.5.0",
          "state": {
            "_model_module": "@jupyter-widgets/controls",
            "_model_module_version": "1.5.0",
            "_model_name": "DescriptionStyleModel",
            "_view_count": null,
            "_view_module": "@jupyter-widgets/base",
            "_view_module_version": "1.2.0",
            "_view_name": "StyleView",
            "description_width": ""
          }
        },
        "1c0e8519a7af4d26832e40bcd6328094": {
          "model_module": "@jupyter-widgets/controls",
          "model_name": "HBoxModel",
          "model_module_version": "1.5.0",
          "state": {
            "_dom_classes": [],
            "_model_module": "@jupyter-widgets/controls",
            "_model_module_version": "1.5.0",
            "_model_name": "HBoxModel",
            "_view_count": null,
            "_view_module": "@jupyter-widgets/controls",
            "_view_module_version": "1.5.0",
            "_view_name": "HBoxView",
            "box_style": "",
            "children": [
              "IPY_MODEL_9db29500c4404a09841ca2dd96a8da66",
              "IPY_MODEL_211a07af2c074f40a5738fa344fe3d79",
              "IPY_MODEL_8e1b72b98b0a4b9b8df406dcc7218715"
            ],
            "layout": "IPY_MODEL_a464f3b0dda74b6a8b5aec14e477c008"
          }
        },
        "9db29500c4404a09841ca2dd96a8da66": {
          "model_module": "@jupyter-widgets/controls",
          "model_name": "HTMLModel",
          "model_module_version": "1.5.0",
          "state": {
            "_dom_classes": [],
            "_model_module": "@jupyter-widgets/controls",
            "_model_module_version": "1.5.0",
            "_model_name": "HTMLModel",
            "_view_count": null,
            "_view_module": "@jupyter-widgets/controls",
            "_view_module_version": "1.5.0",
            "_view_name": "HTMLView",
            "description": "",
            "description_tooltip": null,
            "layout": "IPY_MODEL_8db468179bd045048703005bf3466b1b",
            "placeholder": "​",
            "style": "IPY_MODEL_5eb95a75aaec424293f689e0e3e30e3c",
            "value": "config.json: 100%"
          }
        },
        "211a07af2c074f40a5738fa344fe3d79": {
          "model_module": "@jupyter-widgets/controls",
          "model_name": "FloatProgressModel",
          "model_module_version": "1.5.0",
          "state": {
            "_dom_classes": [],
            "_model_module": "@jupyter-widgets/controls",
            "_model_module_version": "1.5.0",
            "_model_name": "FloatProgressModel",
            "_view_count": null,
            "_view_module": "@jupyter-widgets/controls",
            "_view_module_version": "1.5.0",
            "_view_name": "ProgressView",
            "bar_style": "success",
            "description": "",
            "description_tooltip": null,
            "layout": "IPY_MODEL_5fafb490fb1a43ffab01434c0fb38411",
            "max": 507,
            "min": 0,
            "orientation": "horizontal",
            "style": "IPY_MODEL_8d202ba05b8e49299350f93b09f8a2fd",
            "value": 507
          }
        },
        "8e1b72b98b0a4b9b8df406dcc7218715": {
          "model_module": "@jupyter-widgets/controls",
          "model_name": "HTMLModel",
          "model_module_version": "1.5.0",
          "state": {
            "_dom_classes": [],
            "_model_module": "@jupyter-widgets/controls",
            "_model_module_version": "1.5.0",
            "_model_name": "HTMLModel",
            "_view_count": null,
            "_view_module": "@jupyter-widgets/controls",
            "_view_module_version": "1.5.0",
            "_view_name": "HTMLView",
            "description": "",
            "description_tooltip": null,
            "layout": "IPY_MODEL_d37b9bd704c4481da1dcf6fc0f5261dd",
            "placeholder": "​",
            "style": "IPY_MODEL_6ab4393bb25141abb5a22c8bc1c21fee",
            "value": " 507/507 [00:00&lt;00:00, 7.74kB/s]"
          }
        },
        "a464f3b0dda74b6a8b5aec14e477c008": {
          "model_module": "@jupyter-widgets/base",
          "model_name": "LayoutModel",
          "model_module_version": "1.2.0",
          "state": {
            "_model_module": "@jupyter-widgets/base",
            "_model_module_version": "1.2.0",
            "_model_name": "LayoutModel",
            "_view_count": null,
            "_view_module": "@jupyter-widgets/base",
            "_view_module_version": "1.2.0",
            "_view_name": "LayoutView",
            "align_content": null,
            "align_items": null,
            "align_self": null,
            "border": null,
            "bottom": null,
            "display": null,
            "flex": null,
            "flex_flow": null,
            "grid_area": null,
            "grid_auto_columns": null,
            "grid_auto_flow": null,
            "grid_auto_rows": null,
            "grid_column": null,
            "grid_gap": null,
            "grid_row": null,
            "grid_template_areas": null,
            "grid_template_columns": null,
            "grid_template_rows": null,
            "height": null,
            "justify_content": null,
            "justify_items": null,
            "left": null,
            "margin": null,
            "max_height": null,
            "max_width": null,
            "min_height": null,
            "min_width": null,
            "object_fit": null,
            "object_position": null,
            "order": null,
            "overflow": null,
            "overflow_x": null,
            "overflow_y": null,
            "padding": null,
            "right": null,
            "top": null,
            "visibility": null,
            "width": null
          }
        },
        "8db468179bd045048703005bf3466b1b": {
          "model_module": "@jupyter-widgets/base",
          "model_name": "LayoutModel",
          "model_module_version": "1.2.0",
          "state": {
            "_model_module": "@jupyter-widgets/base",
            "_model_module_version": "1.2.0",
            "_model_name": "LayoutModel",
            "_view_count": null,
            "_view_module": "@jupyter-widgets/base",
            "_view_module_version": "1.2.0",
            "_view_name": "LayoutView",
            "align_content": null,
            "align_items": null,
            "align_self": null,
            "border": null,
            "bottom": null,
            "display": null,
            "flex": null,
            "flex_flow": null,
            "grid_area": null,
            "grid_auto_columns": null,
            "grid_auto_flow": null,
            "grid_auto_rows": null,
            "grid_column": null,
            "grid_gap": null,
            "grid_row": null,
            "grid_template_areas": null,
            "grid_template_columns": null,
            "grid_template_rows": null,
            "height": null,
            "justify_content": null,
            "justify_items": null,
            "left": null,
            "margin": null,
            "max_height": null,
            "max_width": null,
            "min_height": null,
            "min_width": null,
            "object_fit": null,
            "object_position": null,
            "order": null,
            "overflow": null,
            "overflow_x": null,
            "overflow_y": null,
            "padding": null,
            "right": null,
            "top": null,
            "visibility": null,
            "width": null
          }
        },
        "5eb95a75aaec424293f689e0e3e30e3c": {
          "model_module": "@jupyter-widgets/controls",
          "model_name": "DescriptionStyleModel",
          "model_module_version": "1.5.0",
          "state": {
            "_model_module": "@jupyter-widgets/controls",
            "_model_module_version": "1.5.0",
            "_model_name": "DescriptionStyleModel",
            "_view_count": null,
            "_view_module": "@jupyter-widgets/base",
            "_view_module_version": "1.2.0",
            "_view_name": "StyleView",
            "description_width": ""
          }
        },
        "5fafb490fb1a43ffab01434c0fb38411": {
          "model_module": "@jupyter-widgets/base",
          "model_name": "LayoutModel",
          "model_module_version": "1.2.0",
          "state": {
            "_model_module": "@jupyter-widgets/base",
            "_model_module_version": "1.2.0",
            "_model_name": "LayoutModel",
            "_view_count": null,
            "_view_module": "@jupyter-widgets/base",
            "_view_module_version": "1.2.0",
            "_view_name": "LayoutView",
            "align_content": null,
            "align_items": null,
            "align_self": null,
            "border": null,
            "bottom": null,
            "display": null,
            "flex": null,
            "flex_flow": null,
            "grid_area": null,
            "grid_auto_columns": null,
            "grid_auto_flow": null,
            "grid_auto_rows": null,
            "grid_column": null,
            "grid_gap": null,
            "grid_row": null,
            "grid_template_areas": null,
            "grid_template_columns": null,
            "grid_template_rows": null,
            "height": null,
            "justify_content": null,
            "justify_items": null,
            "left": null,
            "margin": null,
            "max_height": null,
            "max_width": null,
            "min_height": null,
            "min_width": null,
            "object_fit": null,
            "object_position": null,
            "order": null,
            "overflow": null,
            "overflow_x": null,
            "overflow_y": null,
            "padding": null,
            "right": null,
            "top": null,
            "visibility": null,
            "width": null
          }
        },
        "8d202ba05b8e49299350f93b09f8a2fd": {
          "model_module": "@jupyter-widgets/controls",
          "model_name": "ProgressStyleModel",
          "model_module_version": "1.5.0",
          "state": {
            "_model_module": "@jupyter-widgets/controls",
            "_model_module_version": "1.5.0",
            "_model_name": "ProgressStyleModel",
            "_view_count": null,
            "_view_module": "@jupyter-widgets/base",
            "_view_module_version": "1.2.0",
            "_view_name": "StyleView",
            "bar_color": null,
            "description_width": ""
          }
        },
        "d37b9bd704c4481da1dcf6fc0f5261dd": {
          "model_module": "@jupyter-widgets/base",
          "model_name": "LayoutModel",
          "model_module_version": "1.2.0",
          "state": {
            "_model_module": "@jupyter-widgets/base",
            "_model_module_version": "1.2.0",
            "_model_name": "LayoutModel",
            "_view_count": null,
            "_view_module": "@jupyter-widgets/base",
            "_view_module_version": "1.2.0",
            "_view_name": "LayoutView",
            "align_content": null,
            "align_items": null,
            "align_self": null,
            "border": null,
            "bottom": null,
            "display": null,
            "flex": null,
            "flex_flow": null,
            "grid_area": null,
            "grid_auto_columns": null,
            "grid_auto_flow": null,
            "grid_auto_rows": null,
            "grid_column": null,
            "grid_gap": null,
            "grid_row": null,
            "grid_template_areas": null,
            "grid_template_columns": null,
            "grid_template_rows": null,
            "height": null,
            "justify_content": null,
            "justify_items": null,
            "left": null,
            "margin": null,
            "max_height": null,
            "max_width": null,
            "min_height": null,
            "min_width": null,
            "object_fit": null,
            "object_position": null,
            "order": null,
            "overflow": null,
            "overflow_x": null,
            "overflow_y": null,
            "padding": null,
            "right": null,
            "top": null,
            "visibility": null,
            "width": null
          }
        },
        "6ab4393bb25141abb5a22c8bc1c21fee": {
          "model_module": "@jupyter-widgets/controls",
          "model_name": "DescriptionStyleModel",
          "model_module_version": "1.5.0",
          "state": {
            "_model_module": "@jupyter-widgets/controls",
            "_model_module_version": "1.5.0",
            "_model_name": "DescriptionStyleModel",
            "_view_count": null,
            "_view_module": "@jupyter-widgets/base",
            "_view_module_version": "1.2.0",
            "_view_name": "StyleView",
            "description_width": ""
          }
        },
        "520bdfa5a15646948d1f42198e55e30d": {
          "model_module": "@jupyter-widgets/controls",
          "model_name": "HBoxModel",
          "model_module_version": "1.5.0",
          "state": {
            "_dom_classes": [],
            "_model_module": "@jupyter-widgets/controls",
            "_model_module_version": "1.5.0",
            "_model_name": "HBoxModel",
            "_view_count": null,
            "_view_module": "@jupyter-widgets/controls",
            "_view_module_version": "1.5.0",
            "_view_name": "HBoxView",
            "box_style": "",
            "children": [
              "IPY_MODEL_21b4df4ade9c4533a37c444b9a04ac17",
              "IPY_MODEL_2e88d2ceb2e646519e5bc0b192086eeb",
              "IPY_MODEL_7a6e2bd764914468a55423c57bcbae6a"
            ],
            "layout": "IPY_MODEL_c860f49ddf7d4421b4e3f053edbe2e35"
          }
        },
        "21b4df4ade9c4533a37c444b9a04ac17": {
          "model_module": "@jupyter-widgets/controls",
          "model_name": "HTMLModel",
          "model_module_version": "1.5.0",
          "state": {
            "_dom_classes": [],
            "_model_module": "@jupyter-widgets/controls",
            "_model_module_version": "1.5.0",
            "_model_name": "HTMLModel",
            "_view_count": null,
            "_view_module": "@jupyter-widgets/controls",
            "_view_module_version": "1.5.0",
            "_view_name": "HTMLView",
            "description": "",
            "description_tooltip": null,
            "layout": "IPY_MODEL_0e5ed3d1c5bc46c58e1528ffc476af58",
            "placeholder": "​",
            "style": "IPY_MODEL_3c1485b27f0e485dae7bb8e8e39a91fd",
            "value": "spiece.model: 100%"
          }
        },
        "2e88d2ceb2e646519e5bc0b192086eeb": {
          "model_module": "@jupyter-widgets/controls",
          "model_name": "FloatProgressModel",
          "model_module_version": "1.5.0",
          "state": {
            "_dom_classes": [],
            "_model_module": "@jupyter-widgets/controls",
            "_model_module_version": "1.5.0",
            "_model_name": "FloatProgressModel",
            "_view_count": null,
            "_view_module": "@jupyter-widgets/controls",
            "_view_module_version": "1.5.0",
            "_view_name": "ProgressView",
            "bar_style": "success",
            "description": "",
            "description_tooltip": null,
            "layout": "IPY_MODEL_48c084eaaacf4f25b8af7787f5700cc4",
            "max": 5646064,
            "min": 0,
            "orientation": "horizontal",
            "style": "IPY_MODEL_be77963f46244af68c2aa0f8d6b59804",
            "value": 5646064
          }
        },
        "7a6e2bd764914468a55423c57bcbae6a": {
          "model_module": "@jupyter-widgets/controls",
          "model_name": "HTMLModel",
          "model_module_version": "1.5.0",
          "state": {
            "_dom_classes": [],
            "_model_module": "@jupyter-widgets/controls",
            "_model_module_version": "1.5.0",
            "_model_name": "HTMLModel",
            "_view_count": null,
            "_view_module": "@jupyter-widgets/controls",
            "_view_module_version": "1.5.0",
            "_view_name": "HTMLView",
            "description": "",
            "description_tooltip": null,
            "layout": "IPY_MODEL_65f2bbc29925406aa44f14500d6974fe",
            "placeholder": "​",
            "style": "IPY_MODEL_d4d75062f6c442c4b68b5d8ba693c6f8",
            "value": " 5.65M/5.65M [00:00&lt;00:00, 13.5MB/s]"
          }
        },
        "c860f49ddf7d4421b4e3f053edbe2e35": {
          "model_module": "@jupyter-widgets/base",
          "model_name": "LayoutModel",
          "model_module_version": "1.2.0",
          "state": {
            "_model_module": "@jupyter-widgets/base",
            "_model_module_version": "1.2.0",
            "_model_name": "LayoutModel",
            "_view_count": null,
            "_view_module": "@jupyter-widgets/base",
            "_view_module_version": "1.2.0",
            "_view_name": "LayoutView",
            "align_content": null,
            "align_items": null,
            "align_self": null,
            "border": null,
            "bottom": null,
            "display": null,
            "flex": null,
            "flex_flow": null,
            "grid_area": null,
            "grid_auto_columns": null,
            "grid_auto_flow": null,
            "grid_auto_rows": null,
            "grid_column": null,
            "grid_gap": null,
            "grid_row": null,
            "grid_template_areas": null,
            "grid_template_columns": null,
            "grid_template_rows": null,
            "height": null,
            "justify_content": null,
            "justify_items": null,
            "left": null,
            "margin": null,
            "max_height": null,
            "max_width": null,
            "min_height": null,
            "min_width": null,
            "object_fit": null,
            "object_position": null,
            "order": null,
            "overflow": null,
            "overflow_x": null,
            "overflow_y": null,
            "padding": null,
            "right": null,
            "top": null,
            "visibility": null,
            "width": null
          }
        },
        "0e5ed3d1c5bc46c58e1528ffc476af58": {
          "model_module": "@jupyter-widgets/base",
          "model_name": "LayoutModel",
          "model_module_version": "1.2.0",
          "state": {
            "_model_module": "@jupyter-widgets/base",
            "_model_module_version": "1.2.0",
            "_model_name": "LayoutModel",
            "_view_count": null,
            "_view_module": "@jupyter-widgets/base",
            "_view_module_version": "1.2.0",
            "_view_name": "LayoutView",
            "align_content": null,
            "align_items": null,
            "align_self": null,
            "border": null,
            "bottom": null,
            "display": null,
            "flex": null,
            "flex_flow": null,
            "grid_area": null,
            "grid_auto_columns": null,
            "grid_auto_flow": null,
            "grid_auto_rows": null,
            "grid_column": null,
            "grid_gap": null,
            "grid_row": null,
            "grid_template_areas": null,
            "grid_template_columns": null,
            "grid_template_rows": null,
            "height": null,
            "justify_content": null,
            "justify_items": null,
            "left": null,
            "margin": null,
            "max_height": null,
            "max_width": null,
            "min_height": null,
            "min_width": null,
            "object_fit": null,
            "object_position": null,
            "order": null,
            "overflow": null,
            "overflow_x": null,
            "overflow_y": null,
            "padding": null,
            "right": null,
            "top": null,
            "visibility": null,
            "width": null
          }
        },
        "3c1485b27f0e485dae7bb8e8e39a91fd": {
          "model_module": "@jupyter-widgets/controls",
          "model_name": "DescriptionStyleModel",
          "model_module_version": "1.5.0",
          "state": {
            "_model_module": "@jupyter-widgets/controls",
            "_model_module_version": "1.5.0",
            "_model_name": "DescriptionStyleModel",
            "_view_count": null,
            "_view_module": "@jupyter-widgets/base",
            "_view_module_version": "1.2.0",
            "_view_name": "StyleView",
            "description_width": ""
          }
        },
        "48c084eaaacf4f25b8af7787f5700cc4": {
          "model_module": "@jupyter-widgets/base",
          "model_name": "LayoutModel",
          "model_module_version": "1.2.0",
          "state": {
            "_model_module": "@jupyter-widgets/base",
            "_model_module_version": "1.2.0",
            "_model_name": "LayoutModel",
            "_view_count": null,
            "_view_module": "@jupyter-widgets/base",
            "_view_module_version": "1.2.0",
            "_view_name": "LayoutView",
            "align_content": null,
            "align_items": null,
            "align_self": null,
            "border": null,
            "bottom": null,
            "display": null,
            "flex": null,
            "flex_flow": null,
            "grid_area": null,
            "grid_auto_columns": null,
            "grid_auto_flow": null,
            "grid_auto_rows": null,
            "grid_column": null,
            "grid_gap": null,
            "grid_row": null,
            "grid_template_areas": null,
            "grid_template_columns": null,
            "grid_template_rows": null,
            "height": null,
            "justify_content": null,
            "justify_items": null,
            "left": null,
            "margin": null,
            "max_height": null,
            "max_width": null,
            "min_height": null,
            "min_width": null,
            "object_fit": null,
            "object_position": null,
            "order": null,
            "overflow": null,
            "overflow_x": null,
            "overflow_y": null,
            "padding": null,
            "right": null,
            "top": null,
            "visibility": null,
            "width": null
          }
        },
        "be77963f46244af68c2aa0f8d6b59804": {
          "model_module": "@jupyter-widgets/controls",
          "model_name": "ProgressStyleModel",
          "model_module_version": "1.5.0",
          "state": {
            "_model_module": "@jupyter-widgets/controls",
            "_model_module_version": "1.5.0",
            "_model_name": "ProgressStyleModel",
            "_view_count": null,
            "_view_module": "@jupyter-widgets/base",
            "_view_module_version": "1.2.0",
            "_view_name": "StyleView",
            "bar_color": null,
            "description_width": ""
          }
        },
        "65f2bbc29925406aa44f14500d6974fe": {
          "model_module": "@jupyter-widgets/base",
          "model_name": "LayoutModel",
          "model_module_version": "1.2.0",
          "state": {
            "_model_module": "@jupyter-widgets/base",
            "_model_module_version": "1.2.0",
            "_model_name": "LayoutModel",
            "_view_count": null,
            "_view_module": "@jupyter-widgets/base",
            "_view_module_version": "1.2.0",
            "_view_name": "LayoutView",
            "align_content": null,
            "align_items": null,
            "align_self": null,
            "border": null,
            "bottom": null,
            "display": null,
            "flex": null,
            "flex_flow": null,
            "grid_area": null,
            "grid_auto_columns": null,
            "grid_auto_flow": null,
            "grid_auto_rows": null,
            "grid_column": null,
            "grid_gap": null,
            "grid_row": null,
            "grid_template_areas": null,
            "grid_template_columns": null,
            "grid_template_rows": null,
            "height": null,
            "justify_content": null,
            "justify_items": null,
            "left": null,
            "margin": null,
            "max_height": null,
            "max_width": null,
            "min_height": null,
            "min_width": null,
            "object_fit": null,
            "object_position": null,
            "order": null,
            "overflow": null,
            "overflow_x": null,
            "overflow_y": null,
            "padding": null,
            "right": null,
            "top": null,
            "visibility": null,
            "width": null
          }
        },
        "d4d75062f6c442c4b68b5d8ba693c6f8": {
          "model_module": "@jupyter-widgets/controls",
          "model_name": "DescriptionStyleModel",
          "model_module_version": "1.5.0",
          "state": {
            "_model_module": "@jupyter-widgets/controls",
            "_model_module_version": "1.5.0",
            "_model_name": "DescriptionStyleModel",
            "_view_count": null,
            "_view_module": "@jupyter-widgets/base",
            "_view_module_version": "1.2.0",
            "_view_name": "StyleView",
            "description_width": ""
          }
        }
      }
    }
  },
  "cells": [
    {
      "cell_type": "markdown",
      "source": [
        "# Week 1 Hands on Execises\n"
      ],
      "metadata": {
        "id": "cvWjf8x1KuzX"
      }
    },
    {
      "cell_type": "markdown",
      "source": [
        "#1.Word Tokenization"
      ],
      "metadata": {
        "id": "IUvxeqruhKHg"
      }
    },
    {
      "cell_type": "code",
      "source": [
        "import nltk\n",
        "nltk.download('punkt_tab')"
      ],
      "metadata": {
        "colab": {
          "base_uri": "https://localhost:8080/"
        },
        "id": "ZTM6aFvEhaOz",
        "outputId": "bea78b08-19c1-43a8-c57e-c38ca4734e38"
      },
      "execution_count": null,
      "outputs": [
        {
          "output_type": "stream",
          "name": "stderr",
          "text": [
            "[nltk_data] Downloading package punkt_tab to /root/nltk_data...\n",
            "[nltk_data]   Unzipping tokenizers/punkt_tab.zip.\n"
          ]
        },
        {
          "output_type": "execute_result",
          "data": {
            "text/plain": [
              "True"
            ]
          },
          "metadata": {},
          "execution_count": 6
        }
      ]
    },
    {
      "cell_type": "code",
      "execution_count": null,
      "metadata": {
        "colab": {
          "base_uri": "https://localhost:8080/"
        },
        "id": "aEeMUwVggxtS",
        "outputId": "beb5c26e-fd07-4fa7-f1b1-cf0381448bdc"
      },
      "outputs": [
        {
          "output_type": "stream",
          "name": "stdout",
          "text": [
            "Tokenized words (NLTK): ['मैं', 'कल', 'बाजार', 'गया', 'था।', 'वहाँ', 'मैंने', 'किताबें', 'खरीदीं।']\n",
            "Tokenized words (Regex): ['म', 'कल', 'ब', 'ज', 'र', 'गय', 'थ', 'वह', 'म', 'न', 'क', 'त', 'ब', 'खर', 'द']\n"
          ]
        }
      ],
      "source": [
        "from nltk.tokenize import word_tokenize\n",
        "from nltk.tokenize import RegexpTokenizer\n",
        "\n",
        "# Example text in Hindi\n",
        "hindi_text = \"मैं कल बाजार गया था। वहाँ मैंने किताबें खरीदीं।\"\n",
        "\n",
        "# Word Tokenization using NLTK\n",
        "tokens = word_tokenize(hindi_text)\n",
        "print(\"Tokenized words (NLTK):\", tokens)\n",
        "\n",
        "# Using a Regular Expression Tokenizer for better control\n",
        "regexp_tokenizer = RegexpTokenizer(r'\\w+')\n",
        "tokens_regexp = regexp_tokenizer.tokenize(hindi_text)\n",
        "print(\"Tokenized words (Regex):\", tokens_regexp)\n"
      ]
    },
    {
      "cell_type": "markdown",
      "source": [
        "\\d\n",
        "\n",
        "    Matches any decimal digit; this is equivalent to the class [0-9].\n",
        "\n",
        "\\D\n",
        "    \n",
        "    Matches any non-digit character; this is equivalent to the class [^0-9].\n",
        "\n",
        "\\s\n",
        "\n",
        "    Matches any whitespace character; this is equivalent to the class [ \\t\\n\\r\\f\\v].\n",
        "\n",
        "\\S\n",
        "\n",
        "    Matches any non-whitespace character; this is equivalent to the class [^ \\t\\n\\r\\f\\v].\n",
        "\n",
        "\\w\n",
        "\n",
        "    Matches any alphanumeric character; this is equivalent to the class [a-zA-Z0-9_].\n",
        "\n",
        "\\W\n",
        "\n",
        "    Matches any non-alphanumeric character; this is equivalent to the class [^a-zA-Z0-9_].\n",
        "\n",
        "These sequences can be included inside a character class. For example, [\\s,.] is a character class that will match any whitespace character, or ',' or '.'."
      ],
      "metadata": {
        "id": "vOFE30-sj1Zi"
      }
    },
    {
      "cell_type": "code",
      "source": [
        "import re\n",
        "\n",
        "pattern=re.compile(r'\\w+')\n",
        "matches=pattern.findall(hindi_text)\n",
        "print(matches)"
      ],
      "metadata": {
        "colab": {
          "base_uri": "https://localhost:8080/"
        },
        "id": "8Zctr0Smd5qh",
        "outputId": "87ccff93-3c72-4fd3-898f-3f928b1c1fce"
      },
      "execution_count": null,
      "outputs": [
        {
          "output_type": "stream",
          "name": "stdout",
          "text": [
            "['म', 'कल', 'ब', 'ज', 'र', 'गय', 'थ', 'वह', 'म', 'न', 'क', 'त', 'ब', 'खर', 'द']\n"
          ]
        }
      ]
    },
    {
      "cell_type": "markdown",
      "source": [
        "#2. Challenges of Tokenization"
      ],
      "metadata": {
        "id": "uNWWyiS4hrrE"
      }
    },
    {
      "cell_type": "code",
      "source": [
        "from nltk.tokenize import sent_tokenize\n",
        "\n",
        "# Hindi text with Devanagari full stops\n",
        "hindi_text = \"यह एक वाक्य है। यह दूसरा वाक्य है।\"\n",
        "\n",
        "# Sentence Segmentation\n",
        "sentences = sent_tokenize(hindi_text)\n",
        "print(\"Segmented sentences (NLTK):\", sentences)\n",
        "\n",
        "# Custom segmentation for Devanagari full stop\n",
        "import re\n",
        "custom_sentences = re.split(r'।\\s*', hindi_text)\n",
        "print(\"Segmented sentences (Custom):\", [s for s in custom_sentences if s])\n"
      ],
      "metadata": {
        "colab": {
          "base_uri": "https://localhost:8080/"
        },
        "id": "3oldRa8Mho4z",
        "outputId": "be3aa6c6-db8b-4af0-a871-24e54877cb96"
      },
      "execution_count": null,
      "outputs": [
        {
          "output_type": "stream",
          "name": "stdout",
          "text": [
            "Segmented sentences (NLTK): ['यह एक वाक्य है। यह दूसरा वाक्य है।']\n",
            "Segmented sentences (Custom): ['यह एक वाक्य है', 'यह दूसरा वाक्य है']\n"
          ]
        }
      ]
    },
    {
      "cell_type": "markdown",
      "source": [
        "# Tokenization for Indian Languages Using indic-nlp-library"
      ],
      "metadata": {
        "id": "LMl4ftKTh5lu"
      }
    },
    {
      "cell_type": "code",
      "source": [
        "pip install indic-nlp-library"
      ],
      "metadata": {
        "id": "iYorxMb_h7kF"
      },
      "execution_count": null,
      "outputs": []
    },
    {
      "cell_type": "markdown",
      "source": [
        "The **UnicodeIndicTransliterator** is a component of the Indic NLP Library used for transliteration between Indian scripts and Roman script or between Indian scripts themselves. It supports transliteration across various Indian languages, allowing text to be represented in a standardized format or converted between scripts.\n",
        "\n",
        "**Key Features:**\n",
        "\n",
        "**Script-to-Script Transliteration:** Convert text from one Indic script to another (e.g., Devanagari to Tamil).\n",
        "\n",
        "**Roman Transliteration:** Convert Indic script text to Roman script (and vice versa).\n",
        "\n",
        "**Supports Multiple Languages:** Handles most Indian languages, such as Hindi, Tamil, Bengali, Telugu, etc.\n",
        "\n",
        "\n",
        "**Supported Script Codes:**\n",
        "\n",
        "**Indic Scripts:** hi (Hindi), ta (Tamil), te (Telugu), kn (Kannada), etc.\n",
        "\n",
        "**Roman Script:** iast (International Alphabet of Sanskrit Transliteration)."
      ],
      "metadata": {
        "id": "kenX98BCzj-B"
      }
    },
    {
      "cell_type": "code",
      "source": [
        "from indicnlp.tokenize import sentence_tokenize, indic_tokenize\n",
        "from indicnlp.transliterate.unicode_transliterate import UnicodeIndicTransliterator\n",
        "\n",
        "# Load the library\n",
        "# Install: pip install indic-nlp-library\n",
        "\n",
        "# Example text\n",
        "hindi_text = \"यह एक वाक्य है। यह दूसरा वाक्य है।\"\n",
        "\n",
        "# Sentence Tokenization\n",
        "sentences = sentence_tokenize.sentence_split(hindi_text, lang='hi')\n",
        "print(\"Sentence Segmentation (IndicNLP):\", sentences)\n",
        "\n",
        "# Word Tokenization\n",
        "tokens = indic_tokenize.trivial_tokenize(hindi_text)\n",
        "print(\"Word Tokenization (IndicNLP):\", tokens)\n",
        "\n",
        "\n",
        "# Transliterate from Devanagari to Tamil script\n",
        "tamil_text = UnicodeIndicTransliterator.transliterate(hindi_text, \"hi\", \"ta\")\n",
        "print(\"Hindi to Tamil:\", tamil_text)\n",
        "\n"
      ],
      "metadata": {
        "colab": {
          "base_uri": "https://localhost:8080/"
        },
        "id": "LHlOQ6sFzKkT",
        "outputId": "8cb315bb-849b-4858-966a-37473f3f1049"
      },
      "execution_count": null,
      "outputs": [
        {
          "output_type": "stream",
          "name": "stdout",
          "text": [
            "Sentence Segmentation (IndicNLP): ['यह एक वाक्य है।', 'यह दूसरा वाक्य है।']\n",
            "Word Tokenization (IndicNLP): ['यह', 'एक', 'वाक्य', 'है', '।', 'यह', 'दूसरा', 'वाक्य', 'है', '।']\n",
            "Hindi to Tamil: யஹ ஏக வாக்ய ஹை। யஹ தூஸரா வாக்ய ஹை।\n"
          ]
        }
      ]
    },
    {
      "cell_type": "markdown",
      "source": [],
      "metadata": {
        "id": "B-EXWMl5zini"
      }
    },
    {
      "cell_type": "markdown",
      "source": [
        "#5. Advanced Approaches for Tokenization and Sentence Segmentation\n",
        "\n",
        "---\n",
        "**Byte Pair Encoding (BPE)**\n",
        "\n",
        "Byte Pair Encoding (BPE) is a data compression technique that has been adapted for subword tokenization in NLP. It helps in breaking down words into smaller units called subword tokens.\n",
        "\n",
        "**Why BPE is Useful in NLP**\n",
        "\n",
        " *  **Handling Out-of-Vocabulary Words:** By breaking words into subwords, models can understand and generate words not seen during training.\n",
        " *  **Morphological Representation:** Captures prefixes, suffixes, and root words, helping in understanding word structures.\n",
        " *  **Efficiency:** Reduces the vocabulary size, making the model more efficient without losing significant information.\n",
        "\n",
        "\n",
        " These tokens are commonly used in transformer-based models like BERT. Here's a breakdown of their purposes:\n",
        "\n",
        "**[PAD]:** Used for padding sequences to the same length in a batch. It ensures that all input sequences have the same length without altering the model's predictions.\n",
        "\n",
        "**[UNK]:**Represents an unknown token, used for words or symbols not in the model's vocabulary.\n",
        "\n",
        "**[CLS]:** A special token added at the beginning of every input sequence. In BERT, the output corresponding to this token is often used as a summary representation for tasks like classification.\n",
        "\n",
        "**[SEP]:** Separates segments in tasks that involve multiple sequences, like sentence-pair classification or question-answering.\n",
        "\n",
        "**[MASK]:** Used in masked language modeling, where tokens are randomly replaced with this mask token to train the model to predict them.\n"
      ],
      "metadata": {
        "id": "8eshuJ7diPXA"
      }
    },
    {
      "cell_type": "code",
      "source": [
        "from tokenizers import Tokenizer\n",
        "from tokenizers.models import BPE\n",
        "from tokenizers.trainers import BpeTrainer\n",
        "from tokenizers.pre_tokenizers import Whitespace\n",
        "\n",
        "# Prepare a small dataset with Indian language text\n",
        "texts = [\n",
        "    \"भारत विविधता में एकता का देश है।\",\n",
        "    \"வாழைப்பழத்தை வாங்கினேன்.\",\n",
        "    \"रामगया बाज़ार।\",\n",
        "]\n",
        "\n",
        "# Initialize the tokenizer\n",
        "tokenizer = Tokenizer(BPE())\n",
        "trainer = BpeTrainer(special_tokens=[\"[PAD]\", \"[UNK]\", \"[CLS]\", \"[SEP]\", \"[MASK]\"])\n",
        "tokenizer.pre_tokenizer = Whitespace()\n",
        "\n",
        "# Train the tokenizer on the text data\n",
        "tokenizer.train_from_iterator(texts, trainer)\n",
        "\n",
        "# Tokenize a new text\n",
        "output = tokenizer.encode(\"भारत महान देश है।\")\n",
        "print(\"Tokenized Output:\", output.tokens)\n"
      ],
      "metadata": {
        "colab": {
          "base_uri": "https://localhost:8080/"
        },
        "id": "6BUFwC0WiKma",
        "outputId": "d35e84ce-13c6-4a64-d10a-640400a1160e"
      },
      "execution_count": null,
      "outputs": [
        {
          "output_type": "stream",
          "name": "stdout",
          "text": [
            "Tokenized Output: ['भारत', 'म', 'ह', 'ा', 'देश', 'है', '।']\n"
          ]
        }
      ]
    },
    {
      "cell_type": "markdown",
      "source": [
        "***Deep Learning-Based Sentence Segmentation***"
      ],
      "metadata": {
        "id": "zhwVYC1nikEs"
      }
    },
    {
      "cell_type": "code",
      "source": [
        "from transformers import AutoTokenizer, AutoModelForTokenClassification\n",
        "from transformers import pipeline\n",
        "\n",
        "# Load the IndicBERT tokenizer and model\n",
        "model_name = \"ai4bharat/indic-bert\"\n",
        "tokenizer = AutoTokenizer.from_pretrained(model_name)\n",
        "\n",
        "# Load text in Hindi\n",
        "text = \"भारत एक महान देश है। यहाँ विभिन्न भाषाएँ बोली जाती हैं।\"\n",
        "\n",
        "# Tokenize using IndicBERT\n",
        "tokens = tokenizer.tokenize(text)\n",
        "print(\"IndicBERT Tokenized Output:\", tokens)\n"
      ],
      "metadata": {
        "colab": {
          "base_uri": "https://localhost:8080/",
          "height": 222,
          "referenced_widgets": [
            "658b36f881244f2a8484ccda773c0242",
            "98cca762b11049a9b48f6e47efb3a0bd",
            "736ab97646d946c4ae64b904c81c90f1",
            "391fc252c52b43478b01fcbb810ee9bd",
            "316516e6a4f4465a8845e35ae75c1fd5",
            "0218588a51314f158749cf67466d07da",
            "052cdaf3b12847489e6ca5eebf7532b6",
            "66ea1b7fee7b4b12a8638426db6fc2c3",
            "73f7eebf9d2a484e817cc6737981bc06",
            "d27a369395e44b39b38727306f7139e3",
            "b53aac7712bc4614a03c3532cc4824a0",
            "e0790bd643df4e398226421e1eef22e7",
            "85043272666646e4a227c5e14e0c8954",
            "55a82b535ca9413db7bcd490c6431940",
            "fe8f9ffc3a154f0ca8859d86b4320e85",
            "3065bab6a0674fdb8153706a3520e5ec",
            "7e997b4a422d4c15ba966092d41a7a58",
            "94b59abd89ab4be7a97085a52e7bbf34",
            "978c22c9ca674259a6b2491cc730f4b8",
            "56152056513d460b9471bafaf0e56045",
            "5321f531314a427fabcfba54b16143d8",
            "65ca7bb5d3604e98a53c226765085cce"
          ]
        },
        "id": "WrOAULOciWz1",
        "outputId": "e7d7471c-0ece-4453-b0d6-f90996aada78"
      },
      "execution_count": null,
      "outputs": [
        {
          "output_type": "stream",
          "name": "stderr",
          "text": [
            "/usr/local/lib/python3.10/dist-packages/huggingface_hub/utils/_auth.py:94: UserWarning: \n",
            "The secret `HF_TOKEN` does not exist in your Colab secrets.\n",
            "To authenticate with the Hugging Face Hub, create a token in your settings tab (https://huggingface.co/settings/tokens), set it as secret in your Google Colab and restart your session.\n",
            "You will be able to reuse this secret in all of your notebooks.\n",
            "Please note that authentication is recommended but still optional to access public models or datasets.\n",
            "  warnings.warn(\n"
          ]
        },
        {
          "output_type": "display_data",
          "data": {
            "text/plain": [
              "config.json:   0%|          | 0.00/507 [00:00<?, ?B/s]"
            ],
            "application/vnd.jupyter.widget-view+json": {
              "version_major": 2,
              "version_minor": 0,
              "model_id": "658b36f881244f2a8484ccda773c0242"
            }
          },
          "metadata": {}
        },
        {
          "output_type": "display_data",
          "data": {
            "text/plain": [
              "spiece.model:   0%|          | 0.00/5.65M [00:00<?, ?B/s]"
            ],
            "application/vnd.jupyter.widget-view+json": {
              "version_major": 2,
              "version_minor": 0,
              "model_id": "e0790bd643df4e398226421e1eef22e7"
            }
          },
          "metadata": {}
        },
        {
          "output_type": "stream",
          "name": "stdout",
          "text": [
            "IndicBERT Tokenized Output: ['▁भरत', '▁एक', '▁मह', 'न', '▁दश', '▁ह', '।', '▁यह', '▁व', 'भ', 'नन', '▁भ', 'ष', 'ए', '▁बल', '▁जत', '▁ह', '।']\n"
          ]
        }
      ]
    },
    {
      "cell_type": "markdown",
      "source": [
        "# Advanced Task: Building a Pipeline for Indian Languages\n",
        "Here's an outline for building a tokenization and segmentation pipeline:\n",
        "\n",
        "\n",
        "1.   **Input**: Accept Indian language text.\n",
        "2.   **Preprocessing**:\n",
        "\n",
        "       *   Normalize the text (e.g., handle diacritics in Hindi or Tamil).\n",
        "       *   Remove noise like special characters.\n",
        "3.   **Tokenization**:\n",
        "       *   Use Indic NLP Library or a pretrained tokenizer.\n",
        "\n",
        "4.   **Sentence Segmentation**:\n",
        "        * Implement segmentation logic for punctuation like \"।\".\n",
        "\n",
        "5.  **Output:**\n",
        "\n",
        "       *    Provide tokenized words and segmented sentences.\n",
        "\n",
        "\n",
        "\n",
        "\n",
        "\n",
        "\n"
      ],
      "metadata": {
        "id": "U9Jo2vhmi57n"
      }
    },
    {
      "cell_type": "code",
      "source": [
        "from indicnlp.tokenize import sentence_tokenize, indic_tokenize\n",
        "\n",
        "def process_text(text, lang='hi'):\n",
        "    # Sentence segmentation\n",
        "    sentences = sentence_tokenize.sentence_split(text, lang=lang)\n",
        "    print(\"Segmented Sentences:\", sentences)\n",
        "\n",
        "    # Word tokenization\n",
        "    for sentence in sentences:\n",
        "        tokens = indic_tokenize.trivial_tokenize(sentence)\n",
        "        print(f\"Tokens for '{sentence}':\", tokens)\n",
        "\n",
        "# Example Input\n",
        "hindi_text = \"भारत एक महान देश है। यहाँ अनेक भाषाएँ बोली जाती हैं।\"\n",
        "process_text(hindi_text, lang='hi')\n"
      ],
      "metadata": {
        "colab": {
          "base_uri": "https://localhost:8080/"
        },
        "id": "-hBSQMi6kQse",
        "outputId": "e713caca-712d-474c-9878-133de8406cae"
      },
      "execution_count": null,
      "outputs": [
        {
          "output_type": "stream",
          "name": "stdout",
          "text": [
            "Segmented Sentences: ['भारत एक महान देश है।', 'यहाँ अनेक भाषाएँ बोली जाती हैं।']\n",
            "Tokens for 'भारत एक महान देश है।': ['भारत', 'एक', 'महान', 'देश', 'है', '।']\n",
            "Tokens for 'यहाँ अनेक भाषाएँ बोली जाती हैं।': ['यहाँ', 'अनेक', 'भाषाएँ', 'बोली', 'जाती', 'हैं', '।']\n"
          ]
        }
      ]
    },
    {
      "cell_type": "markdown",
      "source": [],
      "metadata": {
        "id": "N4iPvTwR2Nu7"
      }
    },
    {
      "cell_type": "markdown",
      "source": [
        "# 9. Building a Tokenization and Sentence Segmentation Pipeline\n",
        "\n",
        "Pipeline Components:\n",
        "Here, we outline a complete pipeline for tokenizing and segmenting Indian language text. This can handle multiple languages, integrate pretrained models, and address the challenges discussed earlier.\n",
        "\n",
        "\n",
        "\n",
        "---\n",
        "\n",
        "**Pipeline Outline:**\n",
        "1.    **Preprocessing:**\n",
        "\n",
        "     *   Normalize text (e.g., handle diacritics or unwanted special characters).\n",
        "     *   Detect language/script using libraries like langdetect.\n",
        "2.    **Sentence Segmentation:**\n",
        "\n",
        "      *   Use language-specific punctuation rules.\n",
        "      *    Apply Indic NLP Library or a custom regular expression.\n",
        "3.    **Word Tokenization:**\n",
        "\n",
        "       *   Leverage Indic NLP, Hugging Face tokenizers, or subword tokenization methods.\n",
        "4.    **Error Handling:**\n",
        "\n",
        "      *   Handle unknown or mixed-language tokens robustly.\n",
        "5.   **Output:**\n",
        "\n",
        "      *    Provide tokenized words and segmented sentences with metadata."
      ],
      "metadata": {
        "id": "RC4XBpXKkfpI"
      }
    },
    {
      "cell_type": "markdown",
      "source": [
        "**Step 1: Installing Dependencies**\n",
        "\n",
        "Install necessary libraries:\n",
        "\n",
        "\n"
      ],
      "metadata": {
        "id": "TBN1HxVUli0H"
      }
    },
    {
      "cell_type": "code",
      "source": [
        "pip install nltk indic-nlp-library langdetect transformers"
      ],
      "metadata": {
        "id": "kW9facLGlqmw",
        "colab": {
          "base_uri": "https://localhost:8080/"
        },
        "outputId": "fc081af2-c437-4fec-a4e1-2a5555fdad11"
      },
      "execution_count": null,
      "outputs": [
        {
          "output_type": "stream",
          "name": "stdout",
          "text": [
            "Requirement already satisfied: nltk in /usr/local/lib/python3.10/dist-packages (3.9.1)\n",
            "Requirement already satisfied: indic-nlp-library in /usr/local/lib/python3.10/dist-packages (0.92)\n",
            "Collecting langdetect\n",
            "  Downloading langdetect-1.0.9.tar.gz (981 kB)\n",
            "\u001b[2K     \u001b[90m━━━━━━━━━━━━━━━━━━━━━━━━━━━━━━━━━━━━━━━━\u001b[0m \u001b[32m981.5/981.5 kB\u001b[0m \u001b[31m17.6 MB/s\u001b[0m eta \u001b[36m0:00:00\u001b[0m\n",
            "\u001b[?25h  Preparing metadata (setup.py) ... \u001b[?25l\u001b[?25hdone\n",
            "Requirement already satisfied: transformers in /usr/local/lib/python3.10/dist-packages (4.47.1)\n",
            "Requirement already satisfied: click in /usr/local/lib/python3.10/dist-packages (from nltk) (8.1.7)\n",
            "Requirement already satisfied: joblib in /usr/local/lib/python3.10/dist-packages (from nltk) (1.4.2)\n",
            "Requirement already satisfied: regex>=2021.8.3 in /usr/local/lib/python3.10/dist-packages (from nltk) (2024.11.6)\n",
            "Requirement already satisfied: tqdm in /usr/local/lib/python3.10/dist-packages (from nltk) (4.67.1)\n",
            "Requirement already satisfied: sphinx-argparse in /usr/local/lib/python3.10/dist-packages (from indic-nlp-library) (0.5.2)\n",
            "Requirement already satisfied: sphinx-rtd-theme in /usr/local/lib/python3.10/dist-packages (from indic-nlp-library) (3.0.2)\n",
            "Requirement already satisfied: morfessor in /usr/local/lib/python3.10/dist-packages (from indic-nlp-library) (2.0.6)\n",
            "Requirement already satisfied: pandas in /usr/local/lib/python3.10/dist-packages (from indic-nlp-library) (2.2.2)\n",
            "Requirement already satisfied: numpy in /usr/local/lib/python3.10/dist-packages (from indic-nlp-library) (1.26.4)\n",
            "Requirement already satisfied: six in /usr/local/lib/python3.10/dist-packages (from langdetect) (1.17.0)\n",
            "Requirement already satisfied: filelock in /usr/local/lib/python3.10/dist-packages (from transformers) (3.16.1)\n",
            "Requirement already satisfied: huggingface-hub<1.0,>=0.24.0 in /usr/local/lib/python3.10/dist-packages (from transformers) (0.27.0)\n",
            "Requirement already satisfied: packaging>=20.0 in /usr/local/lib/python3.10/dist-packages (from transformers) (24.2)\n",
            "Requirement already satisfied: pyyaml>=5.1 in /usr/local/lib/python3.10/dist-packages (from transformers) (6.0.2)\n",
            "Requirement already satisfied: requests in /usr/local/lib/python3.10/dist-packages (from transformers) (2.32.3)\n",
            "Requirement already satisfied: tokenizers<0.22,>=0.21 in /usr/local/lib/python3.10/dist-packages (from transformers) (0.21.0)\n",
            "Requirement already satisfied: safetensors>=0.4.1 in /usr/local/lib/python3.10/dist-packages (from transformers) (0.4.5)\n",
            "Requirement already satisfied: fsspec>=2023.5.0 in /usr/local/lib/python3.10/dist-packages (from huggingface-hub<1.0,>=0.24.0->transformers) (2024.10.0)\n",
            "Requirement already satisfied: typing-extensions>=3.7.4.3 in /usr/local/lib/python3.10/dist-packages (from huggingface-hub<1.0,>=0.24.0->transformers) (4.12.2)\n",
            "Requirement already satisfied: python-dateutil>=2.8.2 in /usr/local/lib/python3.10/dist-packages (from pandas->indic-nlp-library) (2.8.2)\n",
            "Requirement already satisfied: pytz>=2020.1 in /usr/local/lib/python3.10/dist-packages (from pandas->indic-nlp-library) (2024.2)\n",
            "Requirement already satisfied: tzdata>=2022.7 in /usr/local/lib/python3.10/dist-packages (from pandas->indic-nlp-library) (2024.2)\n",
            "Requirement already satisfied: charset-normalizer<4,>=2 in /usr/local/lib/python3.10/dist-packages (from requests->transformers) (3.4.0)\n",
            "Requirement already satisfied: idna<4,>=2.5 in /usr/local/lib/python3.10/dist-packages (from requests->transformers) (3.10)\n",
            "Requirement already satisfied: urllib3<3,>=1.21.1 in /usr/local/lib/python3.10/dist-packages (from requests->transformers) (2.2.3)\n",
            "Requirement already satisfied: certifi>=2017.4.17 in /usr/local/lib/python3.10/dist-packages (from requests->transformers) (2024.12.14)\n",
            "Requirement already satisfied: sphinx>=5.1.0 in /usr/local/lib/python3.10/dist-packages (from sphinx-argparse->indic-nlp-library) (8.1.3)\n",
            "Requirement already satisfied: docutils>=0.19 in /usr/local/lib/python3.10/dist-packages (from sphinx-argparse->indic-nlp-library) (0.21.2)\n",
            "Requirement already satisfied: sphinxcontrib-jquery<5,>=4 in /usr/local/lib/python3.10/dist-packages (from sphinx-rtd-theme->indic-nlp-library) (4.1)\n",
            "Requirement already satisfied: sphinxcontrib-applehelp>=1.0.7 in /usr/local/lib/python3.10/dist-packages (from sphinx>=5.1.0->sphinx-argparse->indic-nlp-library) (2.0.0)\n",
            "Requirement already satisfied: sphinxcontrib-devhelp>=1.0.6 in /usr/local/lib/python3.10/dist-packages (from sphinx>=5.1.0->sphinx-argparse->indic-nlp-library) (2.0.0)\n",
            "Requirement already satisfied: sphinxcontrib-htmlhelp>=2.0.6 in /usr/local/lib/python3.10/dist-packages (from sphinx>=5.1.0->sphinx-argparse->indic-nlp-library) (2.1.0)\n",
            "Requirement already satisfied: sphinxcontrib-jsmath>=1.0.1 in /usr/local/lib/python3.10/dist-packages (from sphinx>=5.1.0->sphinx-argparse->indic-nlp-library) (1.0.1)\n",
            "Requirement already satisfied: sphinxcontrib-qthelp>=1.0.6 in /usr/local/lib/python3.10/dist-packages (from sphinx>=5.1.0->sphinx-argparse->indic-nlp-library) (2.0.0)\n",
            "Requirement already satisfied: sphinxcontrib-serializinghtml>=1.1.9 in /usr/local/lib/python3.10/dist-packages (from sphinx>=5.1.0->sphinx-argparse->indic-nlp-library) (2.0.0)\n",
            "Requirement already satisfied: Jinja2>=3.1 in /usr/local/lib/python3.10/dist-packages (from sphinx>=5.1.0->sphinx-argparse->indic-nlp-library) (3.1.4)\n",
            "Requirement already satisfied: Pygments>=2.17 in /usr/local/lib/python3.10/dist-packages (from sphinx>=5.1.0->sphinx-argparse->indic-nlp-library) (2.18.0)\n",
            "Requirement already satisfied: snowballstemmer>=2.2 in /usr/local/lib/python3.10/dist-packages (from sphinx>=5.1.0->sphinx-argparse->indic-nlp-library) (2.2.0)\n",
            "Requirement already satisfied: babel>=2.13 in /usr/local/lib/python3.10/dist-packages (from sphinx>=5.1.0->sphinx-argparse->indic-nlp-library) (2.16.0)\n",
            "Requirement already satisfied: alabaster>=0.7.14 in /usr/local/lib/python3.10/dist-packages (from sphinx>=5.1.0->sphinx-argparse->indic-nlp-library) (1.0.0)\n",
            "Requirement already satisfied: imagesize>=1.3 in /usr/local/lib/python3.10/dist-packages (from sphinx>=5.1.0->sphinx-argparse->indic-nlp-library) (1.4.1)\n",
            "Requirement already satisfied: tomli>=2 in /usr/local/lib/python3.10/dist-packages (from sphinx>=5.1.0->sphinx-argparse->indic-nlp-library) (2.2.1)\n",
            "Requirement already satisfied: MarkupSafe>=2.0 in /usr/local/lib/python3.10/dist-packages (from Jinja2>=3.1->sphinx>=5.1.0->sphinx-argparse->indic-nlp-library) (3.0.2)\n",
            "Building wheels for collected packages: langdetect\n",
            "  Building wheel for langdetect (setup.py) ... \u001b[?25l\u001b[?25hdone\n",
            "  Created wheel for langdetect: filename=langdetect-1.0.9-py3-none-any.whl size=993222 sha256=6d094b6abd8efe81cb37de40abbf727bf78111ce1addf3826b9f5124c41c2a89\n",
            "  Stored in directory: /root/.cache/pip/wheels/95/03/7d/59ea870c70ce4e5a370638b5462a7711ab78fba2f655d05106\n",
            "Successfully built langdetect\n",
            "Installing collected packages: langdetect\n",
            "Successfully installed langdetect-1.0.9\n"
          ]
        }
      ]
    },
    {
      "cell_type": "markdown",
      "source": [
        "**Step 2: Implementation**"
      ],
      "metadata": {
        "id": "yxfTwPYolwvR"
      }
    },
    {
      "cell_type": "code",
      "source": [
        "from langdetect import detect\n",
        "from indicnlp.tokenize import sentence_tokenize, indic_tokenize\n",
        "from transformers import AutoTokenizer\n",
        "\n",
        "# Load Pretrained Tokenizer (IndicBERT)\n",
        "model_name = \"ai4bharat/indic-bert\"\n",
        "tokenizer = AutoTokenizer.from_pretrained(model_name)\n",
        "\n",
        "# Detect Language\n",
        "def detect_language(text):\n",
        "    try:\n",
        "        lang = detect(text)\n",
        "        print(f\"Detected language: {lang}\")\n",
        "        return lang\n",
        "    except Exception as e:\n",
        "        print(f\"Error detecting language: {e}\")\n",
        "        return None\n",
        "\n",
        "# Sentence Segmentation\n",
        "def segment_sentences(text, lang='hi'):\n",
        "    if lang in ['hi', 'ta', 'te', 'kn', 'ml']:  # Supported Indian languages\n",
        "        sentences = sentence_tokenize.sentence_split(text, lang=lang)\n",
        "    else:\n",
        "        # Default to splitting on \".\", \"!\", or \"?\"\n",
        "        sentences = re.split(r'[.!?]', text)\n",
        "    return [s.strip() for s in sentences if s.strip()]\n",
        "\n",
        "# Word Tokenization\n",
        "def tokenize_words(text, lang='hi'):\n",
        "    if lang in ['hi', 'ta', 'te', 'kn', 'ml']:\n",
        "        tokens = indic_tokenize.trivial_tokenize(text)\n",
        "    else:\n",
        "        tokens = tokenizer.tokenize(text)\n",
        "    return tokens\n",
        "\n",
        "# Complete Pipeline\n",
        "def process_text(text):\n",
        "    lang = detect_language(text) or 'unknown'\n",
        "    print(\"\\nOriginal Text:\", text)\n",
        "    print(\"Language Detected:\", lang)\n",
        "\n",
        "    # Segment sentences\n",
        "    sentences = segment_sentences(text, lang=lang)\n",
        "    print(\"\\nSegmented Sentences:\")\n",
        "    for i, sent in enumerate(sentences):\n",
        "        print(f\"{i+1}: {sent}\")\n",
        "\n",
        "    # Tokenize each sentence\n",
        "    print(\"\\nWord Tokens for Each Sentence:\")\n",
        "    for sentence in sentences:\n",
        "        tokens = tokenize_words(sentence, lang=lang)\n",
        "        print(f\"Sentence: {sentence}\")\n",
        "        print(f\"Tokens: {tokens}\\n\")\n",
        "\n",
        "# Example Texts\n",
        "hindi_text = \"भारत एक महान देश है। यहाँ अनेक भाषाएँ बोली जाती हैं।\"\n",
        "tamil_text = \"இந்தியாவில் பல மொழிகள் பேசப்படுகின்றன. இது ஒரு சிறப்பான நாடு.\"\n",
        "mixed_text = \"India is a multilingual country. यहाँ अनेक भाषाएँ बोली जाती हैं।\"\n",
        "\n",
        "# Process Texts\n",
        "process_text(hindi_text)\n",
        "process_text(tamil_text)\n",
        "process_text(mixed_text)\n"
      ],
      "metadata": {
        "colab": {
          "base_uri": "https://localhost:8080/"
        },
        "id": "tsVsdFYJlymG",
        "outputId": "b683c59e-84ea-4513-ca3e-946d2fc44bc7"
      },
      "execution_count": null,
      "outputs": [
        {
          "output_type": "stream",
          "name": "stdout",
          "text": [
            "Detected language: hi\n",
            "\n",
            "Original Text: भारत एक महान देश है। यहाँ अनेक भाषाएँ बोली जाती हैं।\n",
            "Language Detected: hi\n",
            "\n",
            "Segmented Sentences:\n",
            "1: भारत एक महान देश है।\n",
            "2: यहाँ अनेक भाषाएँ बोली जाती हैं।\n",
            "\n",
            "Word Tokens for Each Sentence:\n",
            "Sentence: भारत एक महान देश है।\n",
            "Tokens: ['भारत', 'एक', 'महान', 'देश', 'है', '।']\n",
            "\n",
            "Sentence: यहाँ अनेक भाषाएँ बोली जाती हैं।\n",
            "Tokens: ['यहाँ', 'अनेक', 'भाषाएँ', 'बोली', 'जाती', 'हैं', '।']\n",
            "\n",
            "Detected language: ta\n",
            "\n",
            "Original Text: இந்தியாவில் பல மொழிகள் பேசப்படுகின்றன. இது ஒரு சிறப்பான நாடு.\n",
            "Language Detected: ta\n",
            "\n",
            "Segmented Sentences:\n",
            "1: இந்தியாவில் பல மொழிகள் பேசப்படுகின்றன.\n",
            "2: இது ஒரு சிறப்பான நாடு.\n",
            "\n",
            "Word Tokens for Each Sentence:\n",
            "Sentence: இந்தியாவில் பல மொழிகள் பேசப்படுகின்றன.\n",
            "Tokens: ['இந்தியாவில்', 'பல', 'மொழிகள்', 'பேசப்படுகின்றன', '.']\n",
            "\n",
            "Sentence: இது ஒரு சிறப்பான நாடு.\n",
            "Tokens: ['இது', 'ஒரு', 'சிறப்பான', 'நாடு', '.']\n",
            "\n",
            "Detected language: hi\n",
            "\n",
            "Original Text: India is a multilingual country. यहाँ अनेक भाषाएँ बोली जाती हैं।\n",
            "Language Detected: hi\n",
            "\n",
            "Segmented Sentences:\n",
            "1: India is a multilingual country. यहाँ अनेक भाषाएँ बोली जाती हैं।\n",
            "\n",
            "Word Tokens for Each Sentence:\n",
            "Sentence: India is a multilingual country. यहाँ अनेक भाषाएँ बोली जाती हैं।\n",
            "Tokens: ['India', 'is', 'a', 'multilingual', 'country', '.', 'यहाँ', 'अनेक', 'भाषाएँ', 'बोली', 'जाती', 'हैं', '।']\n",
            "\n"
          ]
        }
      ]
    },
    {
      "cell_type": "markdown",
      "source": [
        "# Advanced Features for the Pipeline\n",
        "\n",
        "**Handling Mixed-Language Texts:**\n",
        "\n",
        "*   Detect multiple languages in a single text.\n",
        "*   Apply appropriate tokenization rules based on detected segments."
      ],
      "metadata": {
        "id": "jx3hJUObI76T"
      }
    },
    {
      "cell_type": "code",
      "source": [
        "def process_mixed_language_text(text):\n",
        "    from langdetect import DetectorFactory\n",
        "    DetectorFactory.seed = 0  # Ensure reproducibility\n",
        "    detected_segments = []\n",
        "\n",
        "    for sentence in re.split(r'[।.!?]', text):\n",
        "        sentence = sentence.strip()\n",
        "        if sentence:\n",
        "            lang = detect(sentence)\n",
        "            detected_segments.append((sentence, lang))\n",
        "\n",
        "    print(\"\\nDetected Language Segments:\")\n",
        "    for segment, lang in detected_segments:\n",
        "        print(f\"[{lang}] {segment}\")\n",
        "\n",
        "    for segment, lang in detected_segments:\n",
        "        process_text(segment)\n"
      ],
      "metadata": {
        "id": "EeXkkohpJSOh"
      },
      "execution_count": null,
      "outputs": []
    },
    {
      "cell_type": "markdown",
      "source": [
        "# Challenges and How the Pipeline Addresses Them\n",
        "**Challenges:**\n",
        "\n",
        "1.   Agglutination:\n",
        "\n",
        "     *   Use subword tokenization (e.g., Byte Pair Encoding).\n",
        "     *   Indic NLP's morphological analysis could help for highly agglutinated words.\n",
        "2.   Ambiguity in Segmentation:\n",
        "\n",
        "     *   Example: Quoted text or nested punctuation.\n",
        "     *   Use regex and context-aware sentence splitting.\n",
        "3.   Mixed-Language Contexts:\n",
        "\n",
        "     *   Detect and process each language segment independently."
      ],
      "metadata": {
        "id": "19tqiUSCJaoL"
      }
    },
    {
      "cell_type": "markdown",
      "source": [
        "# Exercises for Practice\n",
        "**1.  Tokenization and Segmentation Practice:**\n",
        "\n",
        "     Input: \"भारत महान देश है। India is diverse.\"\n",
        "     Output: Provide tokens and sentences for both Hindi and English parts.\n",
        "**2. Error Identification and Handling:**\n",
        "\n",
        "      Input: Tamil text with typos: \"இந்தியாவின் பல மொழிகள் பேசப் பட்டுகின்றன.\"\n",
        "      Task: Identify and correct tokenization errors.\n",
        "**3. Experiment with Pretrained Models:**\n",
        "\n",
        "      Load IndicBERT and test on multilingual Indian texts. Compare its performance against Indic NLP Library.\n"
      ],
      "metadata": {
        "id": "Vch9xchLJ7sV"
      }
    },
    {
      "cell_type": "code",
      "source": [],
      "metadata": {
        "id": "iwDpABbKO1w_"
      },
      "execution_count": null,
      "outputs": []
    },
    {
      "cell_type": "markdown",
      "source": [
        "# solution for Excercise 2\n",
        "\n"
      ],
      "metadata": {
        "id": "-_O153XzOixY"
      }
    },
    {
      "cell_type": "code",
      "source": [
        "pip install indic-nlp-library"
      ],
      "metadata": {
        "id": "JivJXyuyuMUA"
      },
      "execution_count": null,
      "outputs": []
    },
    {
      "cell_type": "code",
      "source": [
        "from indicnlp.tokenize import indic_tokenize\n",
        "\n",
        "# Input text with possible tokenization errors\n",
        "text = \"இந்தியாவின் பல மொழிகள் பேசப் பட்டுகின்றன.\"\n",
        "\n",
        "# Tokenize the text using indic_nlp_library\n",
        "tokens = list(indic_tokenize.trivial_tokenize(text, lang='ta'))\n",
        "\n",
        "# Correct tokenization errors (if required)\n",
        "# For demonstration, let's manually fix an identified issue, e.g., splitting incorrect compound tokens.\n",
        "# \"பேசப் பட்டுகின்றன\" -> [\"பேசப்\", \"பட்டுகின்றன\"]\n",
        "\n",
        "corrected_tokens = []\n",
        "for token in tokens:\n",
        "    if \"பட்டுகின்றன\" in token:\n",
        "        corrected_tokens.extend([\"பேசப்\", \"பட்டுகின்றன\"])\n",
        "    else:\n",
        "        corrected_tokens.append(token)\n",
        "\n",
        "# Display original and corrected tokens\n",
        "print(\"Original Tokens:\", tokens)\n",
        "print(\"Corrected Tokens:\", corrected_tokens)\n"
      ],
      "metadata": {
        "colab": {
          "base_uri": "https://localhost:8080/"
        },
        "id": "eVv9e30NOsWT",
        "outputId": "9f168b37-ce08-469f-ae72-cdffc2a33736"
      },
      "execution_count": null,
      "outputs": [
        {
          "output_type": "stream",
          "name": "stdout",
          "text": [
            "Original Tokens: ['இந்தியாவின்', 'பல', 'மொழிகள்', 'பேசப்', 'பட்டுகின்றன', '.']\n",
            "Corrected Tokens: ['இந்தியாவின்', 'பல', 'மொழிகள்', 'பேசப்', 'பேசப்', 'பட்டுகின்றன', '.']\n"
          ]
        }
      ]
    },
    {
      "cell_type": "markdown",
      "source": [
        "# Solution for Question 1"
      ],
      "metadata": {
        "id": "KR0oDdJimQbV"
      }
    },
    {
      "cell_type": "code",
      "source": [
        "!pip install indic-nlp-library spacy\n",
        "!python -m spacy download en_core_web_sm\n"
      ],
      "metadata": {
        "id": "iYqg8x3ImVgf"
      },
      "execution_count": null,
      "outputs": []
    },
    {
      "cell_type": "code",
      "source": [
        "from indicnlp.tokenize import indic_tokenize\n",
        "import spacy\n",
        "\n",
        "# Load spaCy model for English\n",
        "nlp = spacy.load(\"en_core_web_sm\")\n",
        "\n",
        "# Input text\n",
        "text = \"भारत महान देश है। India is diverse.\"\n",
        "\n",
        "# Split text into sentences manually\n",
        "sentences = text.split(\"।\")\n",
        "\n",
        "# Process Hindi sentence using Indic NLP Library\n",
        "hindi_sentence = sentences[0].strip() + \"।\"  # Add the period back\n",
        "hindi_tokens = list(indic_tokenize.trivial_tokenize(hindi_sentence, lang='hi'))\n",
        "\n",
        "# Process English sentence using spaCy\n",
        "english_sentence = sentences[1].strip() if len(sentences) > 1 else \"\"\n",
        "english_doc = nlp(english_sentence)\n",
        "english_tokens = [token.text for token in english_doc]\n",
        "\n",
        "# Output results\n",
        "print(\"Hindi Sentence:\", hindi_sentence)\n",
        "print(\"Hindi Tokens:\", hindi_tokens)\n",
        "print(\"\\nEnglish Sentence:\", english_sentence)\n",
        "print(\"English Tokens:\", english_tokens)\n"
      ],
      "metadata": {
        "colab": {
          "base_uri": "https://localhost:8080/"
        },
        "id": "kBhtMXEAmiyu",
        "outputId": "7c673b22-8eae-4b40-f108-e46abfde7a56"
      },
      "execution_count": null,
      "outputs": [
        {
          "output_type": "stream",
          "name": "stdout",
          "text": [
            "Hindi Sentence: भारत महान देश है।\n",
            "Hindi Tokens: ['भारत', 'महान', 'देश', 'है', '।']\n",
            "\n",
            "English Sentence: India is diverse.\n",
            "English Tokens: ['India', 'is', 'diverse', '.']\n"
          ]
        }
      ]
    },
    {
      "cell_type": "markdown",
      "source": [
        "# Solution for Question 3"
      ],
      "metadata": {
        "id": "d8H5Olcjnj93"
      }
    },
    {
      "cell_type": "code",
      "source": [
        "pip install transformers indic-nlp-library\n"
      ],
      "metadata": {
        "id": "hXILACgunpW8"
      },
      "execution_count": null,
      "outputs": []
    },
    {
      "cell_type": "code",
      "source": [
        "from transformers import AutoTokenizer, AutoModel\n",
        "from indicnlp.tokenize import indic_tokenize\n",
        "\n",
        "# Load IndicBERT tokenizer and model\n",
        "model_name = \"ai4bharat/indic-bert\"\n",
        "tokenizer = AutoTokenizer.from_pretrained(model_name)\n",
        "\n",
        "# Example multilingual Indian text\n",
        "texts = {\n",
        "    \"tamil\": \"இந்தியாவின் பல மொழிகள் பேசப்படுகின்றன.\",\n",
        "    \"hindi\": \"भारत में कई भाषाएँ बोली जाती हैं।\",\n",
        "    \"bengali\": \"ভারতে অনেক ভাষা কথা বলা হয়।\"\n",
        "}\n",
        "\n",
        "# Tokenization using Indic NLP Library\n",
        "def tokenize_indic_nlp(text, lang):\n",
        "    return list(indic_tokenize.trivial_tokenize(text, lang=lang))\n",
        "\n",
        "# Tokenization using IndicBERT\n",
        "def tokenize_indic_bert(text):\n",
        "    return tokenizer.tokenize(text)\n",
        "\n",
        "# Compare results\n",
        "for lang, text in texts.items():\n",
        "    print(f\"\\nLanguage: {lang.capitalize()}\")\n",
        "    print(f\"Original Text: {text}\")\n",
        "\n",
        "    # Indic NLP Library Tokenization\n",
        "    indic_nlp_tokens = tokenize_indic_nlp(text, lang=lang[:2])\n",
        "    print(f\"Indic NLP Library Tokens: {indic_nlp_tokens}\")\n",
        "\n",
        "    # IndicBERT Tokenization\n",
        "    indicbert_tokens = tokenize_indic_bert(text)\n",
        "    print(f\"IndicBERT Tokens: {indicbert_tokens}\")\n"
      ],
      "metadata": {
        "colab": {
          "base_uri": "https://localhost:8080/",
          "height": 465,
          "referenced_widgets": [
            "1c0e8519a7af4d26832e40bcd6328094",
            "9db29500c4404a09841ca2dd96a8da66",
            "211a07af2c074f40a5738fa344fe3d79",
            "8e1b72b98b0a4b9b8df406dcc7218715",
            "a464f3b0dda74b6a8b5aec14e477c008",
            "8db468179bd045048703005bf3466b1b",
            "5eb95a75aaec424293f689e0e3e30e3c",
            "5fafb490fb1a43ffab01434c0fb38411",
            "8d202ba05b8e49299350f93b09f8a2fd",
            "d37b9bd704c4481da1dcf6fc0f5261dd",
            "6ab4393bb25141abb5a22c8bc1c21fee",
            "520bdfa5a15646948d1f42198e55e30d",
            "21b4df4ade9c4533a37c444b9a04ac17",
            "2e88d2ceb2e646519e5bc0b192086eeb",
            "7a6e2bd764914468a55423c57bcbae6a",
            "c860f49ddf7d4421b4e3f053edbe2e35",
            "0e5ed3d1c5bc46c58e1528ffc476af58",
            "3c1485b27f0e485dae7bb8e8e39a91fd",
            "48c084eaaacf4f25b8af7787f5700cc4",
            "be77963f46244af68c2aa0f8d6b59804",
            "65f2bbc29925406aa44f14500d6974fe",
            "d4d75062f6c442c4b68b5d8ba693c6f8"
          ]
        },
        "id": "kSoFRc92nxhS",
        "outputId": "d659a040-f1a1-44fa-f449-7672929c6475"
      },
      "execution_count": null,
      "outputs": [
        {
          "output_type": "stream",
          "name": "stderr",
          "text": [
            "/usr/local/lib/python3.10/dist-packages/huggingface_hub/utils/_auth.py:94: UserWarning: \n",
            "The secret `HF_TOKEN` does not exist in your Colab secrets.\n",
            "To authenticate with the Hugging Face Hub, create a token in your settings tab (https://huggingface.co/settings/tokens), set it as secret in your Google Colab and restart your session.\n",
            "You will be able to reuse this secret in all of your notebooks.\n",
            "Please note that authentication is recommended but still optional to access public models or datasets.\n",
            "  warnings.warn(\n"
          ]
        },
        {
          "output_type": "display_data",
          "data": {
            "text/plain": [
              "config.json:   0%|          | 0.00/507 [00:00<?, ?B/s]"
            ],
            "application/vnd.jupyter.widget-view+json": {
              "version_major": 2,
              "version_minor": 0,
              "model_id": "1c0e8519a7af4d26832e40bcd6328094"
            }
          },
          "metadata": {}
        },
        {
          "output_type": "display_data",
          "data": {
            "text/plain": [
              "spiece.model:   0%|          | 0.00/5.65M [00:00<?, ?B/s]"
            ],
            "application/vnd.jupyter.widget-view+json": {
              "version_major": 2,
              "version_minor": 0,
              "model_id": "520bdfa5a15646948d1f42198e55e30d"
            }
          },
          "metadata": {}
        },
        {
          "output_type": "stream",
          "name": "stdout",
          "text": [
            "\n",
            "Language: Tamil\n",
            "Original Text: இந்தியாவின் பல மொழிகள் பேசப்படுகின்றன.\n",
            "Indic NLP Library Tokens: ['இந்தியாவின்', 'பல', 'மொழிகள்', 'பேசப்படுகின்றன', '.']\n",
            "IndicBERT Tokens: ['▁இ', 'ந', 'தய', 'வன', '▁பல', '▁மழ', 'கள', '▁பச', 'ப', 'பட', 'கன', 'றன', '.']\n",
            "\n",
            "Language: Hindi\n",
            "Original Text: भारत में कई भाषाएँ बोली जाती हैं।\n",
            "Indic NLP Library Tokens: ['भारत', 'में', 'कई', 'भाषाएँ', 'बोली', 'जाती', 'हैं', '।']\n",
            "IndicBERT Tokens: ['▁भरत', '▁म', '▁कई', '▁भ', 'ष', 'ए', '▁बल', '▁जत', '▁ह', '।']\n",
            "\n",
            "Language: Bengali\n",
            "Original Text: ভারতে অনেক ভাষা কথা বলা হয়।\n",
            "Indic NLP Library Tokens: ['ভারতে', 'অনেক', 'ভাষা', 'কথা', 'বলা', 'হয়', '।']\n",
            "IndicBERT Tokens: ['▁ভরত', '▁অন', 'ক', '▁ভ', 'ষ', '▁কথ', '▁বল', '▁হ', 'য', '।']\n"
          ]
        }
      ]
    },
    {
      "cell_type": "code",
      "source": [
        "pip install colab_pdf"
      ],
      "metadata": {
        "colab": {
          "base_uri": "https://localhost:8080/"
        },
        "id": "D-Xtxlau2yMy",
        "outputId": "a7340185-f1d1-4b4c-c3b0-39ebd6ecbcb2"
      },
      "execution_count": null,
      "outputs": [
        {
          "output_type": "stream",
          "name": "stdout",
          "text": [
            "\u001b[31mERROR: Could not find a version that satisfies the requirement colab_pdf (from versions: none)\u001b[0m\u001b[31m\n",
            "\u001b[0m\u001b[31mERROR: No matching distribution found for colab_pdf\u001b[0m\u001b[31m\n",
            "\u001b[0m"
          ]
        }
      ]
    },
    {
      "cell_type": "code",
      "source": [
        "! wget -nc https://raw.githubusercontent.com/brpy/colab_pdf/master/colab_pdf.py"
      ],
      "metadata": {
        "colab": {
          "base_uri": "https://localhost:8080/"
        },
        "id": "-2OU8b9a2sZC",
        "outputId": "60842924-cffc-41da-cf0f-f66ff53b043a"
      },
      "execution_count": null,
      "outputs": [
        {
          "output_type": "stream",
          "name": "stdout",
          "text": [
            "--2025-01-01 17:12:36--  https://raw.githubusercontent.com/brpy/colab_pdf/master/colab_pdf.py\n",
            "Resolving raw.githubusercontent.com (raw.githubusercontent.com)... 185.199.110.133, 185.199.108.133, 185.199.111.133, ...\n",
            "Connecting to raw.githubusercontent.com (raw.githubusercontent.com)|185.199.110.133|:443... connected.\n",
            "HTTP request sent, awaiting response... 404 Not Found\n",
            "2025-01-01 17:12:36 ERROR 404: Not Found.\n",
            "\n"
          ]
        }
      ]
    }
  ]
}