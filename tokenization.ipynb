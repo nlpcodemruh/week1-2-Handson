{
  "nbformat": 4,
  "nbformat_minor": 0,
  "metadata": {
    "colab": {
      "provenance": []
    },
    "kernelspec": {
      "name": "python3",
      "display_name": "Python 3"
    },
    "language_info": {
      "name": "python"
    },
    "widgets": {
      "application/vnd.jupyter.widget-state+json": {
        "1c500aa69ed2460a95d328e2d9ac3b94": {
          "model_module": "@jupyter-widgets/controls",
          "model_name": "HBoxModel",
          "model_module_version": "1.5.0",
          "state": {
            "_dom_classes": [],
            "_model_module": "@jupyter-widgets/controls",
            "_model_module_version": "1.5.0",
            "_model_name": "HBoxModel",
            "_view_count": null,
            "_view_module": "@jupyter-widgets/controls",
            "_view_module_version": "1.5.0",
            "_view_name": "HBoxView",
            "box_style": "",
            "children": [
              "IPY_MODEL_b9323b5c4b3e4634907d26821d024a6a",
              "IPY_MODEL_892100a418d9451392e7bdb458020fc8",
              "IPY_MODEL_6619ebaa9e2443308b5f0279cdc37f7f"
            ],
            "layout": "IPY_MODEL_5036f850bb614dc6959191065555964e"
          }
        },
        "b9323b5c4b3e4634907d26821d024a6a": {
          "model_module": "@jupyter-widgets/controls",
          "model_name": "HTMLModel",
          "model_module_version": "1.5.0",
          "state": {
            "_dom_classes": [],
            "_model_module": "@jupyter-widgets/controls",
            "_model_module_version": "1.5.0",
            "_model_name": "HTMLModel",
            "_view_count": null,
            "_view_module": "@jupyter-widgets/controls",
            "_view_module_version": "1.5.0",
            "_view_name": "HTMLView",
            "description": "",
            "description_tooltip": null,
            "layout": "IPY_MODEL_162fd76e89ed42a5afc36658f3cd6a6d",
            "placeholder": "​",
            "style": "IPY_MODEL_56f606c56f324b6284a8bf0f46bfa731",
            "value": "tokenizer_config.json: 100%"
          }
        },
        "892100a418d9451392e7bdb458020fc8": {
          "model_module": "@jupyter-widgets/controls",
          "model_name": "FloatProgressModel",
          "model_module_version": "1.5.0",
          "state": {
            "_dom_classes": [],
            "_model_module": "@jupyter-widgets/controls",
            "_model_module_version": "1.5.0",
            "_model_name": "FloatProgressModel",
            "_view_count": null,
            "_view_module": "@jupyter-widgets/controls",
            "_view_module_version": "1.5.0",
            "_view_name": "ProgressView",
            "bar_style": "success",
            "description": "",
            "description_tooltip": null,
            "layout": "IPY_MODEL_4feb48e05db541838cde1781fa343c8f",
            "max": 49,
            "min": 0,
            "orientation": "horizontal",
            "style": "IPY_MODEL_825e2537cda24751bbc8716c5e1ec8bd",
            "value": 49
          }
        },
        "6619ebaa9e2443308b5f0279cdc37f7f": {
          "model_module": "@jupyter-widgets/controls",
          "model_name": "HTMLModel",
          "model_module_version": "1.5.0",
          "state": {
            "_dom_classes": [],
            "_model_module": "@jupyter-widgets/controls",
            "_model_module_version": "1.5.0",
            "_model_name": "HTMLModel",
            "_view_count": null,
            "_view_module": "@jupyter-widgets/controls",
            "_view_module_version": "1.5.0",
            "_view_name": "HTMLView",
            "description": "",
            "description_tooltip": null,
            "layout": "IPY_MODEL_226d433406c04b20810a757d7393fd24",
            "placeholder": "​",
            "style": "IPY_MODEL_3894467f1a7a404bb422b9165529e565",
            "value": " 49.0/49.0 [00:00&lt;00:00, 2.20kB/s]"
          }
        },
        "5036f850bb614dc6959191065555964e": {
          "model_module": "@jupyter-widgets/base",
          "model_name": "LayoutModel",
          "model_module_version": "1.2.0",
          "state": {
            "_model_module": "@jupyter-widgets/base",
            "_model_module_version": "1.2.0",
            "_model_name": "LayoutModel",
            "_view_count": null,
            "_view_module": "@jupyter-widgets/base",
            "_view_module_version": "1.2.0",
            "_view_name": "LayoutView",
            "align_content": null,
            "align_items": null,
            "align_self": null,
            "border": null,
            "bottom": null,
            "display": null,
            "flex": null,
            "flex_flow": null,
            "grid_area": null,
            "grid_auto_columns": null,
            "grid_auto_flow": null,
            "grid_auto_rows": null,
            "grid_column": null,
            "grid_gap": null,
            "grid_row": null,
            "grid_template_areas": null,
            "grid_template_columns": null,
            "grid_template_rows": null,
            "height": null,
            "justify_content": null,
            "justify_items": null,
            "left": null,
            "margin": null,
            "max_height": null,
            "max_width": null,
            "min_height": null,
            "min_width": null,
            "object_fit": null,
            "object_position": null,
            "order": null,
            "overflow": null,
            "overflow_x": null,
            "overflow_y": null,
            "padding": null,
            "right": null,
            "top": null,
            "visibility": null,
            "width": null
          }
        },
        "162fd76e89ed42a5afc36658f3cd6a6d": {
          "model_module": "@jupyter-widgets/base",
          "model_name": "LayoutModel",
          "model_module_version": "1.2.0",
          "state": {
            "_model_module": "@jupyter-widgets/base",
            "_model_module_version": "1.2.0",
            "_model_name": "LayoutModel",
            "_view_count": null,
            "_view_module": "@jupyter-widgets/base",
            "_view_module_version": "1.2.0",
            "_view_name": "LayoutView",
            "align_content": null,
            "align_items": null,
            "align_self": null,
            "border": null,
            "bottom": null,
            "display": null,
            "flex": null,
            "flex_flow": null,
            "grid_area": null,
            "grid_auto_columns": null,
            "grid_auto_flow": null,
            "grid_auto_rows": null,
            "grid_column": null,
            "grid_gap": null,
            "grid_row": null,
            "grid_template_areas": null,
            "grid_template_columns": null,
            "grid_template_rows": null,
            "height": null,
            "justify_content": null,
            "justify_items": null,
            "left": null,
            "margin": null,
            "max_height": null,
            "max_width": null,
            "min_height": null,
            "min_width": null,
            "object_fit": null,
            "object_position": null,
            "order": null,
            "overflow": null,
            "overflow_x": null,
            "overflow_y": null,
            "padding": null,
            "right": null,
            "top": null,
            "visibility": null,
            "width": null
          }
        },
        "56f606c56f324b6284a8bf0f46bfa731": {
          "model_module": "@jupyter-widgets/controls",
          "model_name": "DescriptionStyleModel",
          "model_module_version": "1.5.0",
          "state": {
            "_model_module": "@jupyter-widgets/controls",
            "_model_module_version": "1.5.0",
            "_model_name": "DescriptionStyleModel",
            "_view_count": null,
            "_view_module": "@jupyter-widgets/base",
            "_view_module_version": "1.2.0",
            "_view_name": "StyleView",
            "description_width": ""
          }
        },
        "4feb48e05db541838cde1781fa343c8f": {
          "model_module": "@jupyter-widgets/base",
          "model_name": "LayoutModel",
          "model_module_version": "1.2.0",
          "state": {
            "_model_module": "@jupyter-widgets/base",
            "_model_module_version": "1.2.0",
            "_model_name": "LayoutModel",
            "_view_count": null,
            "_view_module": "@jupyter-widgets/base",
            "_view_module_version": "1.2.0",
            "_view_name": "LayoutView",
            "align_content": null,
            "align_items": null,
            "align_self": null,
            "border": null,
            "bottom": null,
            "display": null,
            "flex": null,
            "flex_flow": null,
            "grid_area": null,
            "grid_auto_columns": null,
            "grid_auto_flow": null,
            "grid_auto_rows": null,
            "grid_column": null,
            "grid_gap": null,
            "grid_row": null,
            "grid_template_areas": null,
            "grid_template_columns": null,
            "grid_template_rows": null,
            "height": null,
            "justify_content": null,
            "justify_items": null,
            "left": null,
            "margin": null,
            "max_height": null,
            "max_width": null,
            "min_height": null,
            "min_width": null,
            "object_fit": null,
            "object_position": null,
            "order": null,
            "overflow": null,
            "overflow_x": null,
            "overflow_y": null,
            "padding": null,
            "right": null,
            "top": null,
            "visibility": null,
            "width": null
          }
        },
        "825e2537cda24751bbc8716c5e1ec8bd": {
          "model_module": "@jupyter-widgets/controls",
          "model_name": "ProgressStyleModel",
          "model_module_version": "1.5.0",
          "state": {
            "_model_module": "@jupyter-widgets/controls",
            "_model_module_version": "1.5.0",
            "_model_name": "ProgressStyleModel",
            "_view_count": null,
            "_view_module": "@jupyter-widgets/base",
            "_view_module_version": "1.2.0",
            "_view_name": "StyleView",
            "bar_color": null,
            "description_width": ""
          }
        },
        "226d433406c04b20810a757d7393fd24": {
          "model_module": "@jupyter-widgets/base",
          "model_name": "LayoutModel",
          "model_module_version": "1.2.0",
          "state": {
            "_model_module": "@jupyter-widgets/base",
            "_model_module_version": "1.2.0",
            "_model_name": "LayoutModel",
            "_view_count": null,
            "_view_module": "@jupyter-widgets/base",
            "_view_module_version": "1.2.0",
            "_view_name": "LayoutView",
            "align_content": null,
            "align_items": null,
            "align_self": null,
            "border": null,
            "bottom": null,
            "display": null,
            "flex": null,
            "flex_flow": null,
            "grid_area": null,
            "grid_auto_columns": null,
            "grid_auto_flow": null,
            "grid_auto_rows": null,
            "grid_column": null,
            "grid_gap": null,
            "grid_row": null,
            "grid_template_areas": null,
            "grid_template_columns": null,
            "grid_template_rows": null,
            "height": null,
            "justify_content": null,
            "justify_items": null,
            "left": null,
            "margin": null,
            "max_height": null,
            "max_width": null,
            "min_height": null,
            "min_width": null,
            "object_fit": null,
            "object_position": null,
            "order": null,
            "overflow": null,
            "overflow_x": null,
            "overflow_y": null,
            "padding": null,
            "right": null,
            "top": null,
            "visibility": null,
            "width": null
          }
        },
        "3894467f1a7a404bb422b9165529e565": {
          "model_module": "@jupyter-widgets/controls",
          "model_name": "DescriptionStyleModel",
          "model_module_version": "1.5.0",
          "state": {
            "_model_module": "@jupyter-widgets/controls",
            "_model_module_version": "1.5.0",
            "_model_name": "DescriptionStyleModel",
            "_view_count": null,
            "_view_module": "@jupyter-widgets/base",
            "_view_module_version": "1.2.0",
            "_view_name": "StyleView",
            "description_width": ""
          }
        },
        "4a793cd6bc7448d4898f35c34282328c": {
          "model_module": "@jupyter-widgets/controls",
          "model_name": "HBoxModel",
          "model_module_version": "1.5.0",
          "state": {
            "_dom_classes": [],
            "_model_module": "@jupyter-widgets/controls",
            "_model_module_version": "1.5.0",
            "_model_name": "HBoxModel",
            "_view_count": null,
            "_view_module": "@jupyter-widgets/controls",
            "_view_module_version": "1.5.0",
            "_view_name": "HBoxView",
            "box_style": "",
            "children": [
              "IPY_MODEL_410348f0d1a244dab62b64674dc0ce30",
              "IPY_MODEL_c392262e23264cad8041e4f2521cbbdf",
              "IPY_MODEL_c91bf4d0e3cc4cdaad6cf1ae49079715"
            ],
            "layout": "IPY_MODEL_686e74c3768643169ba6d72afcd4921f"
          }
        },
        "410348f0d1a244dab62b64674dc0ce30": {
          "model_module": "@jupyter-widgets/controls",
          "model_name": "HTMLModel",
          "model_module_version": "1.5.0",
          "state": {
            "_dom_classes": [],
            "_model_module": "@jupyter-widgets/controls",
            "_model_module_version": "1.5.0",
            "_model_name": "HTMLModel",
            "_view_count": null,
            "_view_module": "@jupyter-widgets/controls",
            "_view_module_version": "1.5.0",
            "_view_name": "HTMLView",
            "description": "",
            "description_tooltip": null,
            "layout": "IPY_MODEL_6557eb8d187e4943b3b0414e6d40d5d7",
            "placeholder": "​",
            "style": "IPY_MODEL_be3cc590d662427489bbf37417692078",
            "value": "vocab.txt: 100%"
          }
        },
        "c392262e23264cad8041e4f2521cbbdf": {
          "model_module": "@jupyter-widgets/controls",
          "model_name": "FloatProgressModel",
          "model_module_version": "1.5.0",
          "state": {
            "_dom_classes": [],
            "_model_module": "@jupyter-widgets/controls",
            "_model_module_version": "1.5.0",
            "_model_name": "FloatProgressModel",
            "_view_count": null,
            "_view_module": "@jupyter-widgets/controls",
            "_view_module_version": "1.5.0",
            "_view_name": "ProgressView",
            "bar_style": "success",
            "description": "",
            "description_tooltip": null,
            "layout": "IPY_MODEL_3fd9180bbc5d41bb9fa227d374844d45",
            "max": 109540,
            "min": 0,
            "orientation": "horizontal",
            "style": "IPY_MODEL_b7c6e280a0414f4197d3dace70e67e80",
            "value": 109540
          }
        },
        "c91bf4d0e3cc4cdaad6cf1ae49079715": {
          "model_module": "@jupyter-widgets/controls",
          "model_name": "HTMLModel",
          "model_module_version": "1.5.0",
          "state": {
            "_dom_classes": [],
            "_model_module": "@jupyter-widgets/controls",
            "_model_module_version": "1.5.0",
            "_model_name": "HTMLModel",
            "_view_count": null,
            "_view_module": "@jupyter-widgets/controls",
            "_view_module_version": "1.5.0",
            "_view_name": "HTMLView",
            "description": "",
            "description_tooltip": null,
            "layout": "IPY_MODEL_b4531c5d1ed042a0b1304cbc921ab05a",
            "placeholder": "​",
            "style": "IPY_MODEL_0005a75066f24cc08d92a37efa3819e0",
            "value": " 110k/110k [00:00&lt;00:00, 3.67MB/s]"
          }
        },
        "686e74c3768643169ba6d72afcd4921f": {
          "model_module": "@jupyter-widgets/base",
          "model_name": "LayoutModel",
          "model_module_version": "1.2.0",
          "state": {
            "_model_module": "@jupyter-widgets/base",
            "_model_module_version": "1.2.0",
            "_model_name": "LayoutModel",
            "_view_count": null,
            "_view_module": "@jupyter-widgets/base",
            "_view_module_version": "1.2.0",
            "_view_name": "LayoutView",
            "align_content": null,
            "align_items": null,
            "align_self": null,
            "border": null,
            "bottom": null,
            "display": null,
            "flex": null,
            "flex_flow": null,
            "grid_area": null,
            "grid_auto_columns": null,
            "grid_auto_flow": null,
            "grid_auto_rows": null,
            "grid_column": null,
            "grid_gap": null,
            "grid_row": null,
            "grid_template_areas": null,
            "grid_template_columns": null,
            "grid_template_rows": null,
            "height": null,
            "justify_content": null,
            "justify_items": null,
            "left": null,
            "margin": null,
            "max_height": null,
            "max_width": null,
            "min_height": null,
            "min_width": null,
            "object_fit": null,
            "object_position": null,
            "order": null,
            "overflow": null,
            "overflow_x": null,
            "overflow_y": null,
            "padding": null,
            "right": null,
            "top": null,
            "visibility": null,
            "width": null
          }
        },
        "6557eb8d187e4943b3b0414e6d40d5d7": {
          "model_module": "@jupyter-widgets/base",
          "model_name": "LayoutModel",
          "model_module_version": "1.2.0",
          "state": {
            "_model_module": "@jupyter-widgets/base",
            "_model_module_version": "1.2.0",
            "_model_name": "LayoutModel",
            "_view_count": null,
            "_view_module": "@jupyter-widgets/base",
            "_view_module_version": "1.2.0",
            "_view_name": "LayoutView",
            "align_content": null,
            "align_items": null,
            "align_self": null,
            "border": null,
            "bottom": null,
            "display": null,
            "flex": null,
            "flex_flow": null,
            "grid_area": null,
            "grid_auto_columns": null,
            "grid_auto_flow": null,
            "grid_auto_rows": null,
            "grid_column": null,
            "grid_gap": null,
            "grid_row": null,
            "grid_template_areas": null,
            "grid_template_columns": null,
            "grid_template_rows": null,
            "height": null,
            "justify_content": null,
            "justify_items": null,
            "left": null,
            "margin": null,
            "max_height": null,
            "max_width": null,
            "min_height": null,
            "min_width": null,
            "object_fit": null,
            "object_position": null,
            "order": null,
            "overflow": null,
            "overflow_x": null,
            "overflow_y": null,
            "padding": null,
            "right": null,
            "top": null,
            "visibility": null,
            "width": null
          }
        },
        "be3cc590d662427489bbf37417692078": {
          "model_module": "@jupyter-widgets/controls",
          "model_name": "DescriptionStyleModel",
          "model_module_version": "1.5.0",
          "state": {
            "_model_module": "@jupyter-widgets/controls",
            "_model_module_version": "1.5.0",
            "_model_name": "DescriptionStyleModel",
            "_view_count": null,
            "_view_module": "@jupyter-widgets/base",
            "_view_module_version": "1.2.0",
            "_view_name": "StyleView",
            "description_width": ""
          }
        },
        "3fd9180bbc5d41bb9fa227d374844d45": {
          "model_module": "@jupyter-widgets/base",
          "model_name": "LayoutModel",
          "model_module_version": "1.2.0",
          "state": {
            "_model_module": "@jupyter-widgets/base",
            "_model_module_version": "1.2.0",
            "_model_name": "LayoutModel",
            "_view_count": null,
            "_view_module": "@jupyter-widgets/base",
            "_view_module_version": "1.2.0",
            "_view_name": "LayoutView",
            "align_content": null,
            "align_items": null,
            "align_self": null,
            "border": null,
            "bottom": null,
            "display": null,
            "flex": null,
            "flex_flow": null,
            "grid_area": null,
            "grid_auto_columns": null,
            "grid_auto_flow": null,
            "grid_auto_rows": null,
            "grid_column": null,
            "grid_gap": null,
            "grid_row": null,
            "grid_template_areas": null,
            "grid_template_columns": null,
            "grid_template_rows": null,
            "height": null,
            "justify_content": null,
            "justify_items": null,
            "left": null,
            "margin": null,
            "max_height": null,
            "max_width": null,
            "min_height": null,
            "min_width": null,
            "object_fit": null,
            "object_position": null,
            "order": null,
            "overflow": null,
            "overflow_x": null,
            "overflow_y": null,
            "padding": null,
            "right": null,
            "top": null,
            "visibility": null,
            "width": null
          }
        },
        "b7c6e280a0414f4197d3dace70e67e80": {
          "model_module": "@jupyter-widgets/controls",
          "model_name": "ProgressStyleModel",
          "model_module_version": "1.5.0",
          "state": {
            "_model_module": "@jupyter-widgets/controls",
            "_model_module_version": "1.5.0",
            "_model_name": "ProgressStyleModel",
            "_view_count": null,
            "_view_module": "@jupyter-widgets/base",
            "_view_module_version": "1.2.0",
            "_view_name": "StyleView",
            "bar_color": null,
            "description_width": ""
          }
        },
        "b4531c5d1ed042a0b1304cbc921ab05a": {
          "model_module": "@jupyter-widgets/base",
          "model_name": "LayoutModel",
          "model_module_version": "1.2.0",
          "state": {
            "_model_module": "@jupyter-widgets/base",
            "_model_module_version": "1.2.0",
            "_model_name": "LayoutModel",
            "_view_count": null,
            "_view_module": "@jupyter-widgets/base",
            "_view_module_version": "1.2.0",
            "_view_name": "LayoutView",
            "align_content": null,
            "align_items": null,
            "align_self": null,
            "border": null,
            "bottom": null,
            "display": null,
            "flex": null,
            "flex_flow": null,
            "grid_area": null,
            "grid_auto_columns": null,
            "grid_auto_flow": null,
            "grid_auto_rows": null,
            "grid_column": null,
            "grid_gap": null,
            "grid_row": null,
            "grid_template_areas": null,
            "grid_template_columns": null,
            "grid_template_rows": null,
            "height": null,
            "justify_content": null,
            "justify_items": null,
            "left": null,
            "margin": null,
            "max_height": null,
            "max_width": null,
            "min_height": null,
            "min_width": null,
            "object_fit": null,
            "object_position": null,
            "order": null,
            "overflow": null,
            "overflow_x": null,
            "overflow_y": null,
            "padding": null,
            "right": null,
            "top": null,
            "visibility": null,
            "width": null
          }
        },
        "0005a75066f24cc08d92a37efa3819e0": {
          "model_module": "@jupyter-widgets/controls",
          "model_name": "DescriptionStyleModel",
          "model_module_version": "1.5.0",
          "state": {
            "_model_module": "@jupyter-widgets/controls",
            "_model_module_version": "1.5.0",
            "_model_name": "DescriptionStyleModel",
            "_view_count": null,
            "_view_module": "@jupyter-widgets/base",
            "_view_module_version": "1.2.0",
            "_view_name": "StyleView",
            "description_width": ""
          }
        },
        "a9b1e656fd6e4d11bea38c725ce3c7e6": {
          "model_module": "@jupyter-widgets/controls",
          "model_name": "HBoxModel",
          "model_module_version": "1.5.0",
          "state": {
            "_dom_classes": [],
            "_model_module": "@jupyter-widgets/controls",
            "_model_module_version": "1.5.0",
            "_model_name": "HBoxModel",
            "_view_count": null,
            "_view_module": "@jupyter-widgets/controls",
            "_view_module_version": "1.5.0",
            "_view_name": "HBoxView",
            "box_style": "",
            "children": [
              "IPY_MODEL_45702f61537b4582ac73adee8309c128",
              "IPY_MODEL_8d55d172eb51414293bba344529bacf7",
              "IPY_MODEL_65f800bb6ff14ff695a73d9cadab0d67"
            ],
            "layout": "IPY_MODEL_3e4b1cf5998d4dfcb966ee053d0dd359"
          }
        },
        "45702f61537b4582ac73adee8309c128": {
          "model_module": "@jupyter-widgets/controls",
          "model_name": "HTMLModel",
          "model_module_version": "1.5.0",
          "state": {
            "_dom_classes": [],
            "_model_module": "@jupyter-widgets/controls",
            "_model_module_version": "1.5.0",
            "_model_name": "HTMLModel",
            "_view_count": null,
            "_view_module": "@jupyter-widgets/controls",
            "_view_module_version": "1.5.0",
            "_view_name": "HTMLView",
            "description": "",
            "description_tooltip": null,
            "layout": "IPY_MODEL_aead7e4fbe5140baa37bb38445d60a05",
            "placeholder": "​",
            "style": "IPY_MODEL_0b7e122e1fa3477bb254c787ea6b8158",
            "value": "tokenizer.json: 100%"
          }
        },
        "8d55d172eb51414293bba344529bacf7": {
          "model_module": "@jupyter-widgets/controls",
          "model_name": "FloatProgressModel",
          "model_module_version": "1.5.0",
          "state": {
            "_dom_classes": [],
            "_model_module": "@jupyter-widgets/controls",
            "_model_module_version": "1.5.0",
            "_model_name": "FloatProgressModel",
            "_view_count": null,
            "_view_module": "@jupyter-widgets/controls",
            "_view_module_version": "1.5.0",
            "_view_name": "ProgressView",
            "bar_style": "success",
            "description": "",
            "description_tooltip": null,
            "layout": "IPY_MODEL_ffcf993081eb494f99839e62ad1698f0",
            "max": 268943,
            "min": 0,
            "orientation": "horizontal",
            "style": "IPY_MODEL_ff49de4c4a804c22878875ecc4ee19a1",
            "value": 268943
          }
        },
        "65f800bb6ff14ff695a73d9cadab0d67": {
          "model_module": "@jupyter-widgets/controls",
          "model_name": "HTMLModel",
          "model_module_version": "1.5.0",
          "state": {
            "_dom_classes": [],
            "_model_module": "@jupyter-widgets/controls",
            "_model_module_version": "1.5.0",
            "_model_name": "HTMLModel",
            "_view_count": null,
            "_view_module": "@jupyter-widgets/controls",
            "_view_module_version": "1.5.0",
            "_view_name": "HTMLView",
            "description": "",
            "description_tooltip": null,
            "layout": "IPY_MODEL_9cc10de898bd4c4bacbe9dd6da86ecc7",
            "placeholder": "​",
            "style": "IPY_MODEL_b969ee4a12304018afad633632818b94",
            "value": " 269k/269k [00:00&lt;00:00, 8.89MB/s]"
          }
        },
        "3e4b1cf5998d4dfcb966ee053d0dd359": {
          "model_module": "@jupyter-widgets/base",
          "model_name": "LayoutModel",
          "model_module_version": "1.2.0",
          "state": {
            "_model_module": "@jupyter-widgets/base",
            "_model_module_version": "1.2.0",
            "_model_name": "LayoutModel",
            "_view_count": null,
            "_view_module": "@jupyter-widgets/base",
            "_view_module_version": "1.2.0",
            "_view_name": "LayoutView",
            "align_content": null,
            "align_items": null,
            "align_self": null,
            "border": null,
            "bottom": null,
            "display": null,
            "flex": null,
            "flex_flow": null,
            "grid_area": null,
            "grid_auto_columns": null,
            "grid_auto_flow": null,
            "grid_auto_rows": null,
            "grid_column": null,
            "grid_gap": null,
            "grid_row": null,
            "grid_template_areas": null,
            "grid_template_columns": null,
            "grid_template_rows": null,
            "height": null,
            "justify_content": null,
            "justify_items": null,
            "left": null,
            "margin": null,
            "max_height": null,
            "max_width": null,
            "min_height": null,
            "min_width": null,
            "object_fit": null,
            "object_position": null,
            "order": null,
            "overflow": null,
            "overflow_x": null,
            "overflow_y": null,
            "padding": null,
            "right": null,
            "top": null,
            "visibility": null,
            "width": null
          }
        },
        "aead7e4fbe5140baa37bb38445d60a05": {
          "model_module": "@jupyter-widgets/base",
          "model_name": "LayoutModel",
          "model_module_version": "1.2.0",
          "state": {
            "_model_module": "@jupyter-widgets/base",
            "_model_module_version": "1.2.0",
            "_model_name": "LayoutModel",
            "_view_count": null,
            "_view_module": "@jupyter-widgets/base",
            "_view_module_version": "1.2.0",
            "_view_name": "LayoutView",
            "align_content": null,
            "align_items": null,
            "align_self": null,
            "border": null,
            "bottom": null,
            "display": null,
            "flex": null,
            "flex_flow": null,
            "grid_area": null,
            "grid_auto_columns": null,
            "grid_auto_flow": null,
            "grid_auto_rows": null,
            "grid_column": null,
            "grid_gap": null,
            "grid_row": null,
            "grid_template_areas": null,
            "grid_template_columns": null,
            "grid_template_rows": null,
            "height": null,
            "justify_content": null,
            "justify_items": null,
            "left": null,
            "margin": null,
            "max_height": null,
            "max_width": null,
            "min_height": null,
            "min_width": null,
            "object_fit": null,
            "object_position": null,
            "order": null,
            "overflow": null,
            "overflow_x": null,
            "overflow_y": null,
            "padding": null,
            "right": null,
            "top": null,
            "visibility": null,
            "width": null
          }
        },
        "0b7e122e1fa3477bb254c787ea6b8158": {
          "model_module": "@jupyter-widgets/controls",
          "model_name": "DescriptionStyleModel",
          "model_module_version": "1.5.0",
          "state": {
            "_model_module": "@jupyter-widgets/controls",
            "_model_module_version": "1.5.0",
            "_model_name": "DescriptionStyleModel",
            "_view_count": null,
            "_view_module": "@jupyter-widgets/base",
            "_view_module_version": "1.2.0",
            "_view_name": "StyleView",
            "description_width": ""
          }
        },
        "ffcf993081eb494f99839e62ad1698f0": {
          "model_module": "@jupyter-widgets/base",
          "model_name": "LayoutModel",
          "model_module_version": "1.2.0",
          "state": {
            "_model_module": "@jupyter-widgets/base",
            "_model_module_version": "1.2.0",
            "_model_name": "LayoutModel",
            "_view_count": null,
            "_view_module": "@jupyter-widgets/base",
            "_view_module_version": "1.2.0",
            "_view_name": "LayoutView",
            "align_content": null,
            "align_items": null,
            "align_self": null,
            "border": null,
            "bottom": null,
            "display": null,
            "flex": null,
            "flex_flow": null,
            "grid_area": null,
            "grid_auto_columns": null,
            "grid_auto_flow": null,
            "grid_auto_rows": null,
            "grid_column": null,
            "grid_gap": null,
            "grid_row": null,
            "grid_template_areas": null,
            "grid_template_columns": null,
            "grid_template_rows": null,
            "height": null,
            "justify_content": null,
            "justify_items": null,
            "left": null,
            "margin": null,
            "max_height": null,
            "max_width": null,
            "min_height": null,
            "min_width": null,
            "object_fit": null,
            "object_position": null,
            "order": null,
            "overflow": null,
            "overflow_x": null,
            "overflow_y": null,
            "padding": null,
            "right": null,
            "top": null,
            "visibility": null,
            "width": null
          }
        },
        "ff49de4c4a804c22878875ecc4ee19a1": {
          "model_module": "@jupyter-widgets/controls",
          "model_name": "ProgressStyleModel",
          "model_module_version": "1.5.0",
          "state": {
            "_model_module": "@jupyter-widgets/controls",
            "_model_module_version": "1.5.0",
            "_model_name": "ProgressStyleModel",
            "_view_count": null,
            "_view_module": "@jupyter-widgets/base",
            "_view_module_version": "1.2.0",
            "_view_name": "StyleView",
            "bar_color": null,
            "description_width": ""
          }
        },
        "9cc10de898bd4c4bacbe9dd6da86ecc7": {
          "model_module": "@jupyter-widgets/base",
          "model_name": "LayoutModel",
          "model_module_version": "1.2.0",
          "state": {
            "_model_module": "@jupyter-widgets/base",
            "_model_module_version": "1.2.0",
            "_model_name": "LayoutModel",
            "_view_count": null,
            "_view_module": "@jupyter-widgets/base",
            "_view_module_version": "1.2.0",
            "_view_name": "LayoutView",
            "align_content": null,
            "align_items": null,
            "align_self": null,
            "border": null,
            "bottom": null,
            "display": null,
            "flex": null,
            "flex_flow": null,
            "grid_area": null,
            "grid_auto_columns": null,
            "grid_auto_flow": null,
            "grid_auto_rows": null,
            "grid_column": null,
            "grid_gap": null,
            "grid_row": null,
            "grid_template_areas": null,
            "grid_template_columns": null,
            "grid_template_rows": null,
            "height": null,
            "justify_content": null,
            "justify_items": null,
            "left": null,
            "margin": null,
            "max_height": null,
            "max_width": null,
            "min_height": null,
            "min_width": null,
            "object_fit": null,
            "object_position": null,
            "order": null,
            "overflow": null,
            "overflow_x": null,
            "overflow_y": null,
            "padding": null,
            "right": null,
            "top": null,
            "visibility": null,
            "width": null
          }
        },
        "b969ee4a12304018afad633632818b94": {
          "model_module": "@jupyter-widgets/controls",
          "model_name": "DescriptionStyleModel",
          "model_module_version": "1.5.0",
          "state": {
            "_model_module": "@jupyter-widgets/controls",
            "_model_module_version": "1.5.0",
            "_model_name": "DescriptionStyleModel",
            "_view_count": null,
            "_view_module": "@jupyter-widgets/base",
            "_view_module_version": "1.2.0",
            "_view_name": "StyleView",
            "description_width": ""
          }
        },
        "b4d4792a425a4fafb07add85c26d617b": {
          "model_module": "@jupyter-widgets/controls",
          "model_name": "HBoxModel",
          "model_module_version": "1.5.0",
          "state": {
            "_dom_classes": [],
            "_model_module": "@jupyter-widgets/controls",
            "_model_module_version": "1.5.0",
            "_model_name": "HBoxModel",
            "_view_count": null,
            "_view_module": "@jupyter-widgets/controls",
            "_view_module_version": "1.5.0",
            "_view_name": "HBoxView",
            "box_style": "",
            "children": [
              "IPY_MODEL_b7758977d2c04de29068475cf159501b",
              "IPY_MODEL_f968d0dc980f414d856361ea0c3e5973",
              "IPY_MODEL_48efa8a510c14454960eef5af74b6097"
            ],
            "layout": "IPY_MODEL_4fabf5d0d5a44611bbbc0e7286918df6"
          }
        },
        "b7758977d2c04de29068475cf159501b": {
          "model_module": "@jupyter-widgets/controls",
          "model_name": "HTMLModel",
          "model_module_version": "1.5.0",
          "state": {
            "_dom_classes": [],
            "_model_module": "@jupyter-widgets/controls",
            "_model_module_version": "1.5.0",
            "_model_name": "HTMLModel",
            "_view_count": null,
            "_view_module": "@jupyter-widgets/controls",
            "_view_module_version": "1.5.0",
            "_view_name": "HTMLView",
            "description": "",
            "description_tooltip": null,
            "layout": "IPY_MODEL_0bf31ce9c22d485798c3a12859d92e58",
            "placeholder": "​",
            "style": "IPY_MODEL_ae9183562d5e45a89abade1e46c5c1fb",
            "value": "config.json: 100%"
          }
        },
        "f968d0dc980f414d856361ea0c3e5973": {
          "model_module": "@jupyter-widgets/controls",
          "model_name": "FloatProgressModel",
          "model_module_version": "1.5.0",
          "state": {
            "_dom_classes": [],
            "_model_module": "@jupyter-widgets/controls",
            "_model_module_version": "1.5.0",
            "_model_name": "FloatProgressModel",
            "_view_count": null,
            "_view_module": "@jupyter-widgets/controls",
            "_view_module_version": "1.5.0",
            "_view_name": "ProgressView",
            "bar_style": "success",
            "description": "",
            "description_tooltip": null,
            "layout": "IPY_MODEL_1b748b41012d490c8e4268be47b91db9",
            "max": 624,
            "min": 0,
            "orientation": "horizontal",
            "style": "IPY_MODEL_d72dfb031aff483e80c3d72730bd9ed9",
            "value": 624
          }
        },
        "48efa8a510c14454960eef5af74b6097": {
          "model_module": "@jupyter-widgets/controls",
          "model_name": "HTMLModel",
          "model_module_version": "1.5.0",
          "state": {
            "_dom_classes": [],
            "_model_module": "@jupyter-widgets/controls",
            "_model_module_version": "1.5.0",
            "_model_name": "HTMLModel",
            "_view_count": null,
            "_view_module": "@jupyter-widgets/controls",
            "_view_module_version": "1.5.0",
            "_view_name": "HTMLView",
            "description": "",
            "description_tooltip": null,
            "layout": "IPY_MODEL_5803a65611024da4a7823fb939752101",
            "placeholder": "​",
            "style": "IPY_MODEL_d2285d4be599456dbcc34ef53362f45e",
            "value": " 624/624 [00:00&lt;00:00, 40.7kB/s]"
          }
        },
        "4fabf5d0d5a44611bbbc0e7286918df6": {
          "model_module": "@jupyter-widgets/base",
          "model_name": "LayoutModel",
          "model_module_version": "1.2.0",
          "state": {
            "_model_module": "@jupyter-widgets/base",
            "_model_module_version": "1.2.0",
            "_model_name": "LayoutModel",
            "_view_count": null,
            "_view_module": "@jupyter-widgets/base",
            "_view_module_version": "1.2.0",
            "_view_name": "LayoutView",
            "align_content": null,
            "align_items": null,
            "align_self": null,
            "border": null,
            "bottom": null,
            "display": null,
            "flex": null,
            "flex_flow": null,
            "grid_area": null,
            "grid_auto_columns": null,
            "grid_auto_flow": null,
            "grid_auto_rows": null,
            "grid_column": null,
            "grid_gap": null,
            "grid_row": null,
            "grid_template_areas": null,
            "grid_template_columns": null,
            "grid_template_rows": null,
            "height": null,
            "justify_content": null,
            "justify_items": null,
            "left": null,
            "margin": null,
            "max_height": null,
            "max_width": null,
            "min_height": null,
            "min_width": null,
            "object_fit": null,
            "object_position": null,
            "order": null,
            "overflow": null,
            "overflow_x": null,
            "overflow_y": null,
            "padding": null,
            "right": null,
            "top": null,
            "visibility": null,
            "width": null
          }
        },
        "0bf31ce9c22d485798c3a12859d92e58": {
          "model_module": "@jupyter-widgets/base",
          "model_name": "LayoutModel",
          "model_module_version": "1.2.0",
          "state": {
            "_model_module": "@jupyter-widgets/base",
            "_model_module_version": "1.2.0",
            "_model_name": "LayoutModel",
            "_view_count": null,
            "_view_module": "@jupyter-widgets/base",
            "_view_module_version": "1.2.0",
            "_view_name": "LayoutView",
            "align_content": null,
            "align_items": null,
            "align_self": null,
            "border": null,
            "bottom": null,
            "display": null,
            "flex": null,
            "flex_flow": null,
            "grid_area": null,
            "grid_auto_columns": null,
            "grid_auto_flow": null,
            "grid_auto_rows": null,
            "grid_column": null,
            "grid_gap": null,
            "grid_row": null,
            "grid_template_areas": null,
            "grid_template_columns": null,
            "grid_template_rows": null,
            "height": null,
            "justify_content": null,
            "justify_items": null,
            "left": null,
            "margin": null,
            "max_height": null,
            "max_width": null,
            "min_height": null,
            "min_width": null,
            "object_fit": null,
            "object_position": null,
            "order": null,
            "overflow": null,
            "overflow_x": null,
            "overflow_y": null,
            "padding": null,
            "right": null,
            "top": null,
            "visibility": null,
            "width": null
          }
        },
        "ae9183562d5e45a89abade1e46c5c1fb": {
          "model_module": "@jupyter-widgets/controls",
          "model_name": "DescriptionStyleModel",
          "model_module_version": "1.5.0",
          "state": {
            "_model_module": "@jupyter-widgets/controls",
            "_model_module_version": "1.5.0",
            "_model_name": "DescriptionStyleModel",
            "_view_count": null,
            "_view_module": "@jupyter-widgets/base",
            "_view_module_version": "1.2.0",
            "_view_name": "StyleView",
            "description_width": ""
          }
        },
        "1b748b41012d490c8e4268be47b91db9": {
          "model_module": "@jupyter-widgets/base",
          "model_name": "LayoutModel",
          "model_module_version": "1.2.0",
          "state": {
            "_model_module": "@jupyter-widgets/base",
            "_model_module_version": "1.2.0",
            "_model_name": "LayoutModel",
            "_view_count": null,
            "_view_module": "@jupyter-widgets/base",
            "_view_module_version": "1.2.0",
            "_view_name": "LayoutView",
            "align_content": null,
            "align_items": null,
            "align_self": null,
            "border": null,
            "bottom": null,
            "display": null,
            "flex": null,
            "flex_flow": null,
            "grid_area": null,
            "grid_auto_columns": null,
            "grid_auto_flow": null,
            "grid_auto_rows": null,
            "grid_column": null,
            "grid_gap": null,
            "grid_row": null,
            "grid_template_areas": null,
            "grid_template_columns": null,
            "grid_template_rows": null,
            "height": null,
            "justify_content": null,
            "justify_items": null,
            "left": null,
            "margin": null,
            "max_height": null,
            "max_width": null,
            "min_height": null,
            "min_width": null,
            "object_fit": null,
            "object_position": null,
            "order": null,
            "overflow": null,
            "overflow_x": null,
            "overflow_y": null,
            "padding": null,
            "right": null,
            "top": null,
            "visibility": null,
            "width": null
          }
        },
        "d72dfb031aff483e80c3d72730bd9ed9": {
          "model_module": "@jupyter-widgets/controls",
          "model_name": "ProgressStyleModel",
          "model_module_version": "1.5.0",
          "state": {
            "_model_module": "@jupyter-widgets/controls",
            "_model_module_version": "1.5.0",
            "_model_name": "ProgressStyleModel",
            "_view_count": null,
            "_view_module": "@jupyter-widgets/base",
            "_view_module_version": "1.2.0",
            "_view_name": "StyleView",
            "bar_color": null,
            "description_width": ""
          }
        },
        "5803a65611024da4a7823fb939752101": {
          "model_module": "@jupyter-widgets/base",
          "model_name": "LayoutModel",
          "model_module_version": "1.2.0",
          "state": {
            "_model_module": "@jupyter-widgets/base",
            "_model_module_version": "1.2.0",
            "_model_name": "LayoutModel",
            "_view_count": null,
            "_view_module": "@jupyter-widgets/base",
            "_view_module_version": "1.2.0",
            "_view_name": "LayoutView",
            "align_content": null,
            "align_items": null,
            "align_self": null,
            "border": null,
            "bottom": null,
            "display": null,
            "flex": null,
            "flex_flow": null,
            "grid_area": null,
            "grid_auto_columns": null,
            "grid_auto_flow": null,
            "grid_auto_rows": null,
            "grid_column": null,
            "grid_gap": null,
            "grid_row": null,
            "grid_template_areas": null,
            "grid_template_columns": null,
            "grid_template_rows": null,
            "height": null,
            "justify_content": null,
            "justify_items": null,
            "left": null,
            "margin": null,
            "max_height": null,
            "max_width": null,
            "min_height": null,
            "min_width": null,
            "object_fit": null,
            "object_position": null,
            "order": null,
            "overflow": null,
            "overflow_x": null,
            "overflow_y": null,
            "padding": null,
            "right": null,
            "top": null,
            "visibility": null,
            "width": null
          }
        },
        "d2285d4be599456dbcc34ef53362f45e": {
          "model_module": "@jupyter-widgets/controls",
          "model_name": "DescriptionStyleModel",
          "model_module_version": "1.5.0",
          "state": {
            "_model_module": "@jupyter-widgets/controls",
            "_model_module_version": "1.5.0",
            "_model_name": "DescriptionStyleModel",
            "_view_count": null,
            "_view_module": "@jupyter-widgets/base",
            "_view_module_version": "1.2.0",
            "_view_name": "StyleView",
            "description_width": ""
          }
        }
      }
    }
  },
  "cells": [
    {
      "cell_type": "code",
      "source": [
        "#Read Characters\n",
        "sample=\"rice\"\n",
        "\n",
        "for i in sample:\n",
        "  print(i)"
      ],
      "metadata": {
        "colab": {
          "base_uri": "https://localhost:8080/"
        },
        "id": "aLnG54E-k1sS",
        "outputId": "a5145ee0-64c1-4181-f995-9056e6400657"
      },
      "execution_count": null,
      "outputs": [
        {
          "output_type": "stream",
          "name": "stdout",
          "text": [
            "r\n",
            "i\n",
            "c\n",
            "e\n"
          ]
        }
      ]
    },
    {
      "cell_type": "code",
      "source": [
        "# prompt: create array of characters\n",
        "\n",
        "char_array = list(sample)\n",
        "char_array\n"
      ],
      "metadata": {
        "colab": {
          "base_uri": "https://localhost:8080/"
        },
        "id": "AvT-9y5TlYPc",
        "outputId": "acbf51ca-4873-4568-ddbe-ccecc138c594"
      },
      "execution_count": null,
      "outputs": [
        {
          "output_type": "execute_result",
          "data": {
            "text/plain": [
              "['r', 'i', 'c', 'e']"
            ]
          },
          "metadata": {},
          "execution_count": 2
        }
      ]
    },
    {
      "cell_type": "code",
      "source": [
        "#deciding word boundaries\n",
        "sent=\"\"\"Murphy likes movies\"\"\"\n",
        "\n",
        "\n",
        "index=0\n",
        "for i in range(len(sent)):\n",
        "  if sent[i] in \" ?.'\\n'\":\n",
        "    print(sent[index:i])\n",
        "    index=i\n",
        "  elif (i+1)==len(sent):\n",
        "    print(sent[index:i+1])\n",
        "    index=i\n",
        "\n"
      ],
      "metadata": {
        "colab": {
          "base_uri": "https://localhost:8080/"
        },
        "id": "QkwhHS-1ljPe",
        "outputId": "a89d7e83-27f9-4501-aa85-ff060f46c4f4"
      },
      "execution_count": null,
      "outputs": [
        {
          "output_type": "stream",
          "name": "stdout",
          "text": [
            "Mr\n",
            ".\n",
            " D\n",
            ".N\n",
            ".\n",
            " Murphy\n",
            " likes\n",
            " movies\n",
            " but\n",
            "\n",
            "she\n",
            " does\n",
            " not\n"
          ]
        }
      ]
    },
    {
      "cell_type": "code",
      "source": [
        "#creating a user function to use as word tokenizer\n",
        "\n",
        "def word_tokenize1(sent):\n",
        "  index=0\n",
        "  word=[]\n",
        "  for i in range(len(sent)):\n",
        "    if sent[i] in \" ?.'\\n'\":\n",
        "      word.append(sent[index:i])\n",
        "      index=i\n",
        "    elif (i+1)==len(sent):\n",
        "      word.append(sent[index:i+1])\n",
        "      index=i\n",
        "  return word"
      ],
      "metadata": {
        "id": "UTrwjqf9qTiZ"
      },
      "execution_count": null,
      "outputs": []
    },
    {
      "cell_type": "code",
      "source": [
        "import spacy\n",
        "\n",
        "# Load SpaCy model\n",
        "nlp = spacy.load(\"en_core_web_sm\")\n",
        "\n",
        "# Adding a special case for \"U.S.A.\"\n",
        "special_case = [{\"ORTH\": \"U.S.A.\"}]\n",
        "nlp.tokenizer.add_special_case(\"U.S.A.\", special_case)\n",
        "\n",
        "# Process text\n",
        "doc = nlp(\"Dr. Smith is from the U.S.A.\")\n",
        "tokens = [token.text for token in doc]\n",
        "print(tokens)"
      ],
      "metadata": {
        "colab": {
          "base_uri": "https://localhost:8080/"
        },
        "id": "Ghu0JAhpFAFa",
        "outputId": "c7b9f803-946a-40ea-81d7-caa0dcaa4422"
      },
      "execution_count": null,
      "outputs": [
        {
          "output_type": "stream",
          "name": "stdout",
          "text": [
            "['Dr.', 'Smith', 'is', 'from', 'the', 'U.S.A.']\n"
          ]
        }
      ]
    },
    {
      "cell_type": "markdown",
      "source": [
        "    ORTH specifies the exact text form of the token.\n",
        "\n",
        "    The method add_special_case ensures that \"U.S.A.\" is treated as a single token during tokenization."
      ],
      "metadata": {
        "id": "kQbXhMHnFCQz"
      }
    },
    {
      "cell_type": "markdown",
      "source": [
        "To Deal with Appostrophes"
      ],
      "metadata": {
        "id": "pTTsb6LbFqIf"
      }
    },
    {
      "cell_type": "code",
      "source": [
        "import spacy\n",
        "\n",
        "nlp = spacy.load(\"en_core_web_sm\")\n",
        "doc = nlp(\"John's book isn't on the table.\")\n",
        "tokens = [token.text for token in doc]\n",
        "print(tokens)"
      ],
      "metadata": {
        "colab": {
          "base_uri": "https://localhost:8080/"
        },
        "id": "57HGswejFpc5",
        "outputId": "15fd2cb7-a13d-4041-b4a8-1f0eea700a59"
      },
      "execution_count": null,
      "outputs": [
        {
          "output_type": "stream",
          "name": "stdout",
          "text": [
            "['John', \"'s\", 'book', 'is', \"n't\", 'on', 'the', 'table', '.']\n"
          ]
        }
      ]
    },
    {
      "cell_type": "markdown",
      "source": [
        "Custom regex tokenizer"
      ],
      "metadata": {
        "id": "t3B4kAzsF18d"
      }
    },
    {
      "cell_type": "code",
      "source": [
        "import re\n",
        "\n",
        "text = \"John's book isn't on the table.\"\n",
        "pattern = r\"\\w+|'\\w+|\\S\"  # Match words, contractions, or standalone symbols\n",
        "tokens = re.findall(pattern, text)\n",
        "print(tokens)"
      ],
      "metadata": {
        "colab": {
          "base_uri": "https://localhost:8080/"
        },
        "id": "QTw6FVqDF0ms",
        "outputId": "dbd59841-6a1e-4737-e2a7-1dc1bc5e8f3a"
      },
      "execution_count": null,
      "outputs": [
        {
          "output_type": "stream",
          "name": "stdout",
          "text": [
            "['John', \"'s\", 'book', 'isn', \"'t\", 'on', 'the', 'table', '.']\n"
          ]
        }
      ]
    },
    {
      "cell_type": "markdown",
      "source": [
        "Hyphenated Word Tokenization"
      ],
      "metadata": {
        "id": "MOAKdRJJG1VJ"
      }
    },
    {
      "cell_type": "code",
      "source": [
        "import spacy\n",
        "\n",
        "nlp = spacy.load(\"en_core_web_sm\")\n",
        "doc = nlp(\"The state-of-the-art model was re-evaluated post-deployment.\")\n",
        "tokens = [token.text for token in doc]\n",
        "print(tokens)\n"
      ],
      "metadata": {
        "colab": {
          "base_uri": "https://localhost:8080/"
        },
        "id": "0ML2gSuQG5eC",
        "outputId": "7b426e73-9c98-490c-bc6b-495a035fea17"
      },
      "execution_count": null,
      "outputs": [
        {
          "output_type": "stream",
          "name": "stdout",
          "text": [
            "['The', 'state', '-', 'of', '-', 'the', '-', 'art', 'model', 'was', 're', '-', 'evaluated', 'post', '-', 'deployment', '.']\n"
          ]
        }
      ]
    },
    {
      "cell_type": "markdown",
      "source": [
        "Using Regular Expression"
      ],
      "metadata": {
        "id": "85_cq7HSG9q0"
      }
    },
    {
      "cell_type": "code",
      "source": [
        "import re\n",
        "\n",
        "text = \"The state-of-the-art model was re-evaluated post-deployment.\"\n",
        "# Keep hyphenated words intact\n",
        "pattern = r\"[a-zA-Z0-9]+(?:-[a-zA-Z0-9]+)*|[^\\s\\w]\"\n",
        "tokens = re.findall(pattern, text)\n",
        "print(tokens)"
      ],
      "metadata": {
        "colab": {
          "base_uri": "https://localhost:8080/"
        },
        "id": "NodMgumGHAQ9",
        "outputId": "167ec30b-b436-4c7a-ba38-350cee318687"
      },
      "execution_count": null,
      "outputs": [
        {
          "output_type": "stream",
          "name": "stdout",
          "text": [
            "['The', 'state-of-the-art', 'model', 'was', 're-evaluated', 'post-deployment', '.']\n"
          ]
        }
      ]
    },
    {
      "cell_type": "markdown",
      "source": [
        "Multiword Tokenization"
      ],
      "metadata": {
        "id": "zC0Ddz9VHiXK"
      }
    },
    {
      "cell_type": "code",
      "source": [
        "import spacy\n",
        "\n",
        "nlp = spacy.load(\"en_core_web_sm\")\n",
        "\n",
        "text = \"I live in New York and work in a state-of-the-art facility.\"\n",
        "doc = nlp(text)\n",
        "\n",
        "# Extract tokens\n",
        "tokens = [token.text for token in doc]\n",
        "print(tokens)\n",
        "\n",
        "# Multiword expressions as entities\n",
        "entities = [(ent.text, ent.label_) for ent in doc.ents]\n",
        "print(entities)\n"
      ],
      "metadata": {
        "colab": {
          "base_uri": "https://localhost:8080/"
        },
        "id": "bqIw6L38HjE9",
        "outputId": "92afb8aa-01cd-4616-dcb8-920c33f40def"
      },
      "execution_count": null,
      "outputs": [
        {
          "output_type": "stream",
          "name": "stdout",
          "text": [
            "['I', 'live', 'in', 'New', 'York', 'and', 'work', 'in', 'a', 'state', '-', 'of', '-', 'the', '-', 'art', 'facility', '.']\n",
            "[('New York', 'GPE')]\n"
          ]
        }
      ]
    },
    {
      "cell_type": "code",
      "source": [
        "import nltk\n",
        "nltk.download('punkt')\n",
        "nltk.download('punkt_tab')\n",
        "nltk.download('stopwords')"
      ],
      "metadata": {
        "colab": {
          "base_uri": "https://localhost:8080/"
        },
        "id": "Tw92MwPAMliW",
        "outputId": "56527a34-a0c7-4237-bd5c-d4c6c31d7e10"
      },
      "execution_count": null,
      "outputs": [
        {
          "output_type": "stream",
          "name": "stderr",
          "text": [
            "[nltk_data] Downloading package punkt to /root/nltk_data...\n",
            "[nltk_data]   Unzipping tokenizers/punkt.zip.\n",
            "[nltk_data] Downloading package punkt_tab to /root/nltk_data...\n",
            "[nltk_data]   Unzipping tokenizers/punkt_tab.zip.\n",
            "[nltk_data] Downloading package stopwords to /root/nltk_data...\n",
            "[nltk_data]   Unzipping corpora/stopwords.zip.\n"
          ]
        },
        {
          "output_type": "execute_result",
          "data": {
            "text/plain": [
              "True"
            ]
          },
          "metadata": {},
          "execution_count": 1
        }
      ]
    },
    {
      "cell_type": "code",
      "source": [
        "import re\n",
        "\n",
        "sent=\"\"\"Dr. m.p.h.  In a high-tension encounter on the opening day of the fourth Test of\n",
        "the Border-Gavaskar Trophy at the Melbourne Cricket Ground.\n",
        "India captain Rohit Sharma confronted\n",
        "Australian batter Marnus Labuschagne over\n",
        "running on the pitch while taking runs.\"\"\"\n",
        "\n",
        "s1=\"I love NLP. I love ice cream.\"\n",
        "\n",
        "pat=re.compile(r'[.!?|]')\n",
        "sentences=pat.split(sent)\n",
        "print(sentences)"
      ],
      "metadata": {
        "colab": {
          "base_uri": "https://localhost:8080/"
        },
        "id": "0U1_U4uV-fzg",
        "outputId": "a2e146eb-1493-43b2-8c0f-4e37b1080704"
      },
      "execution_count": null,
      "outputs": [
        {
          "output_type": "stream",
          "name": "stdout",
          "text": [
            "['Dr', ' m', 'p', 'h', '  In a high-tension encounter on the opening day of the fourth Test of\\nthe Border-Gavaskar Trophy at the Melbourne Cricket Ground', '\\nIndia captain Rohit Sharma confronted\\nAustralian batter Marnus Labuschagne over\\nrunning on the pitch while taking runs', '']\n"
          ]
        }
      ]
    },
    {
      "cell_type": "code",
      "source": [
        "from nltk import sent_tokenize, word_tokenize\n",
        "\n",
        "sent=\"\"\"Dr. m.p.h.  In a high-tension encounter on the opening day of the fourth Test of\n",
        "the Border-Gavaskar Trophy at the Melbourne Cricket Ground.\n",
        "India captain Rohit Sharma confronted\n",
        "Australian batter Marnus Labuschagne over\n",
        "running on the pitch while taking runs.\"\"\"\n",
        "\n",
        "print(sent_tokenize(sent))"
      ],
      "metadata": {
        "colab": {
          "base_uri": "https://localhost:8080/"
        },
        "id": "lqGx-0ztQiVQ",
        "outputId": "8267824c-06e2-4e16-fb52-55ae0aa70f75"
      },
      "execution_count": null,
      "outputs": [
        {
          "output_type": "stream",
          "name": "stdout",
          "text": [
            "['Dr. m.p.h.', 'In a high-tension encounter on the opening day of the fourth Test of\\nthe Border-Gavaskar Trophy at the Melbourne Cricket Ground.', 'India captain Rohit Sharma confronted\\nAustralian batter Marnus Labuschagne over\\nrunning on the pitch while taking runs.']\n"
          ]
        }
      ]
    },
    {
      "cell_type": "markdown",
      "source": [
        "#**Word Tokens and Word Type**\n",
        "\n",
        "**Word Tokens**\n",
        "\n",
        "An occurence of a word\n",
        "\n",
        "**Word Type**\n",
        "\n",
        "A different realization of a word\n",
        "\n"
      ],
      "metadata": {
        "id": "5ZSABOvIpZej"
      }
    },
    {
      "cell_type": "code",
      "source": [
        "#word token\n",
        "\n",
        "sent=\"\"\"In a high-tension encounter on the opening day of the fourth Test of\n",
        "the Border-Gavaskar Trophy at the Melbourne Cricket Ground,\n",
        "India captain Rohit Sharma confronted\n",
        "Australian batter Marnus Labuschagne over\n",
        "running on the pitch while taking runs.\"\"\"\n",
        "\n",
        "tokens=word_tokenize(sent)\n",
        "print(tokens)\n",
        "\n"
      ],
      "metadata": {
        "colab": {
          "base_uri": "https://localhost:8080/"
        },
        "id": "BdVcnIs6qANq",
        "outputId": "03ee6c7a-8bb1-47e7-964b-785ad570ac02"
      },
      "execution_count": null,
      "outputs": [
        {
          "output_type": "stream",
          "name": "stdout",
          "text": [
            "['In', ' a', ' high-tension', ' encounter', ' on', ' the', ' opening', ' day', ' of', ' the', ' fourth', ' Test', ' of', ' ', '\\nthe', ' Border-Gavaskar', ' Trophy', ' at', ' the', ' Melbourne', ' Cricket', ' Ground,', ' ', '\\nIndia', ' captain', ' Rohit', ' Sharma', ' confronted', ' ', '\\nAustralian', ' batter', ' Marnus', ' Labuschagne', ' over', ' ', '\\nrunning', ' on', ' the', ' pitch', ' while', ' taking', ' runs']\n"
          ]
        }
      ]
    },
    {
      "cell_type": "code",
      "source": [
        "#word type\n",
        "# Find word types (unique words)\n",
        "from collections import Counter\n",
        "word_types = set(tokens)\n",
        "\n",
        "# Count word frequencies\n",
        "word_freq = Counter(tokens)\n",
        "\n",
        "print(\"Word Types:\", word_types)\n",
        "print(\"Word Frequencies:\", word_freq)"
      ],
      "metadata": {
        "colab": {
          "base_uri": "https://localhost:8080/"
        },
        "id": "MPTg-6Omrxbc",
        "outputId": "5ec10a66-6841-411e-bb29-de48f381014c"
      },
      "execution_count": null,
      "outputs": [
        {
          "output_type": "stream",
          "name": "stdout",
          "text": [
            "Word Types: {' fourth', ' Border-Gavaskar', '\\nIndia', ' while', ' Labuschagne', ' over', ' Test', ' captain', ' ', ' Marnus', '\\nthe', ' batter', ' Sharma', ' Ground,', ' of', ' encounter', '\\nrunning', 'In', ' on', ' taking', ' Trophy', ' pitch', ' Cricket', ' at', ' Rohit', ' day', ' a', ' the', ' runs', ' confronted', ' Melbourne', ' high-tension', ' opening', '\\nAustralian'}\n",
            "Word Frequencies: Counter({' the': 4, ' ': 4, ' on': 2, ' of': 2, 'In': 1, ' a': 1, ' high-tension': 1, ' encounter': 1, ' opening': 1, ' day': 1, ' fourth': 1, ' Test': 1, '\\nthe': 1, ' Border-Gavaskar': 1, ' Trophy': 1, ' at': 1, ' Melbourne': 1, ' Cricket': 1, ' Ground,': 1, '\\nIndia': 1, ' captain': 1, ' Rohit': 1, ' Sharma': 1, ' confronted': 1, '\\nAustralian': 1, ' batter': 1, ' Marnus': 1, ' Labuschagne': 1, ' over': 1, '\\nrunning': 1, ' pitch': 1, ' while': 1, ' taking': 1, ' runs': 1})\n"
          ]
        }
      ]
    },
    {
      "cell_type": "code",
      "source": [
        "print(\"Number of all words:\",len(tokens))\n",
        "print(\"Number of unique words\",len(word_types))"
      ],
      "metadata": {
        "colab": {
          "base_uri": "https://localhost:8080/"
        },
        "id": "BAT0PRKusHSc",
        "outputId": "947a2f8c-f669-40ef-f6fd-e80d4dcb6bf9"
      },
      "execution_count": null,
      "outputs": [
        {
          "output_type": "stream",
          "name": "stdout",
          "text": [
            "Number of all words: 42\n",
            "Number of unique words 34\n"
          ]
        }
      ]
    },
    {
      "cell_type": "markdown",
      "source": [
        "#**Using Stardard Tools NLTK**\n",
        "\n"
      ],
      "metadata": {
        "id": "yGmg4KQ5sfBe"
      }
    },
    {
      "cell_type": "code",
      "source": [
        "import nltk\n",
        "nltk.download('punkt')\n",
        "nltk.download('punkt_tab')"
      ],
      "metadata": {
        "id": "AixFeGRHszvi",
        "outputId": "0813855e-59b5-4f3a-9f74-c1af763c95d4",
        "colab": {
          "base_uri": "https://localhost:8080/"
        }
      },
      "execution_count": null,
      "outputs": [
        {
          "output_type": "stream",
          "name": "stderr",
          "text": [
            "[nltk_data] Downloading package punkt to /root/nltk_data...\n",
            "[nltk_data]   Package punkt is already up-to-date!\n",
            "[nltk_data] Downloading package punkt_tab to /root/nltk_data...\n",
            "[nltk_data]   Unzipping tokenizers/punkt_tab.zip.\n"
          ]
        },
        {
          "output_type": "execute_result",
          "data": {
            "text/plain": [
              "True"
            ]
          },
          "metadata": {},
          "execution_count": 46
        }
      ]
    },
    {
      "cell_type": "code",
      "source": [
        "\n",
        "from nltk.tokenize import word_tokenize as wt\n",
        "from collections import Counter\n",
        "\n",
        "# Download necessary NLTK data files\n",
        "\n",
        "\n",
        "# Sample text\n",
        "text = \"Hello world! This is a test. Hello again.\"\n",
        "\n",
        "# Tokenize words\n",
        "tokens = wt(text)\n",
        "\n",
        "# Find word types (unique words)\n",
        "word_types = set(tokens)\n",
        "\n",
        "# Count word frequencies\n",
        "word_freq = Counter(tokens)\n",
        "\n",
        "print(\"Word Tokens:\", tokens)\n",
        "print(\"Word Types:\", word_types)\n",
        "print(\"Word Frequencies:\", word_freq)\n"
      ],
      "metadata": {
        "colab": {
          "base_uri": "https://localhost:8080/"
        },
        "id": "pAf0KOuxskCc",
        "outputId": "fcc70851-9a36-4cb7-f4c6-60fa1cace0a9"
      },
      "execution_count": null,
      "outputs": [
        {
          "output_type": "stream",
          "name": "stdout",
          "text": [
            "Word Tokens: ['Hello', 'world', '!', 'This', 'is', 'a', 'test', '.', 'Hello', 'again', '.']\n",
            "Word Types: {'again', 'This', 'a', '!', 'is', 'Hello', '.', 'world', 'test'}\n",
            "Word Frequencies: Counter({'Hello': 2, '.': 2, 'world': 1, '!': 1, 'This': 1, 'is': 1, 'a': 1, 'test': 1, 'again': 1})\n"
          ]
        }
      ]
    },
    {
      "cell_type": "code",
      "source": [
        "pip install jieba"
      ],
      "metadata": {
        "id": "uZ4Ewvrv2pej"
      },
      "execution_count": null,
      "outputs": []
    },
    {
      "cell_type": "code",
      "execution_count": null,
      "metadata": {
        "colab": {
          "base_uri": "https://localhost:8080/"
        },
        "id": "n0n8e9LSwczE",
        "outputId": "456e720e-0da6-4a7f-cd20-9c14575cbcfc"
      },
      "outputs": [
        {
          "output_type": "stream",
          "name": "stderr",
          "text": [
            "Building prefix dict from the default dictionary ...\n",
            "DEBUG:jieba:Building prefix dict from the default dictionary ...\n",
            "Dumping model to file cache /tmp/jieba.cache\n",
            "DEBUG:jieba:Dumping model to file cache /tmp/jieba.cache\n",
            "Loading model cost 1.840 seconds.\n",
            "DEBUG:jieba:Loading model cost 1.840 seconds.\n",
            "Prefix dict has been built successfully.\n",
            "DEBUG:jieba:Prefix dict has been built successfully.\n"
          ]
        },
        {
          "output_type": "stream",
          "name": "stdout",
          "text": [
            "Jieba Tokenization: ['我', '爱', '自然语言', '处理']\n"
          ]
        }
      ],
      "source": [
        "import jieba\n",
        "\n",
        "# Chinese text to tokenize\n",
        "text = \"我爱自然语言处理\"\n",
        "\n",
        "# Tokenization with Jieba\n",
        "tokens = jieba.lcut(text)\n",
        "\n",
        "print(\"Jieba Tokenization:\", tokens)"
      ]
    },
    {
      "cell_type": "code",
      "source": [
        "from transformers import BertTokenizer\n",
        "\n",
        "# Load a pre-trained BERT tokenizer (Chinese model)\n",
        "tokenizer = BertTokenizer.from_pretrained(\"bert-base-chinese\")\n",
        "\n",
        "# Chinese text to tokenize\n",
        "text = \"我爱自然语言处理\"\n",
        "\n",
        "# Tokenize with the BERT tokenizer\n",
        "tokens = tokenizer.tokenize(text)\n",
        "token_ids = tokenizer.convert_tokens_to_ids(tokens)\n",
        "\n",
        "print(\"BERT Tokenization:\", tokens)\n",
        "print(\"Token IDs:\", token_ids)"
      ],
      "metadata": {
        "colab": {
          "base_uri": "https://localhost:8080/",
          "height": 304,
          "referenced_widgets": [
            "1c500aa69ed2460a95d328e2d9ac3b94",
            "b9323b5c4b3e4634907d26821d024a6a",
            "892100a418d9451392e7bdb458020fc8",
            "6619ebaa9e2443308b5f0279cdc37f7f",
            "5036f850bb614dc6959191065555964e",
            "162fd76e89ed42a5afc36658f3cd6a6d",
            "56f606c56f324b6284a8bf0f46bfa731",
            "4feb48e05db541838cde1781fa343c8f",
            "825e2537cda24751bbc8716c5e1ec8bd",
            "226d433406c04b20810a757d7393fd24",
            "3894467f1a7a404bb422b9165529e565",
            "4a793cd6bc7448d4898f35c34282328c",
            "410348f0d1a244dab62b64674dc0ce30",
            "c392262e23264cad8041e4f2521cbbdf",
            "c91bf4d0e3cc4cdaad6cf1ae49079715",
            "686e74c3768643169ba6d72afcd4921f",
            "6557eb8d187e4943b3b0414e6d40d5d7",
            "be3cc590d662427489bbf37417692078",
            "3fd9180bbc5d41bb9fa227d374844d45",
            "b7c6e280a0414f4197d3dace70e67e80",
            "b4531c5d1ed042a0b1304cbc921ab05a",
            "0005a75066f24cc08d92a37efa3819e0",
            "a9b1e656fd6e4d11bea38c725ce3c7e6",
            "45702f61537b4582ac73adee8309c128",
            "8d55d172eb51414293bba344529bacf7",
            "65f800bb6ff14ff695a73d9cadab0d67",
            "3e4b1cf5998d4dfcb966ee053d0dd359",
            "aead7e4fbe5140baa37bb38445d60a05",
            "0b7e122e1fa3477bb254c787ea6b8158",
            "ffcf993081eb494f99839e62ad1698f0",
            "ff49de4c4a804c22878875ecc4ee19a1",
            "9cc10de898bd4c4bacbe9dd6da86ecc7",
            "b969ee4a12304018afad633632818b94",
            "b4d4792a425a4fafb07add85c26d617b",
            "b7758977d2c04de29068475cf159501b",
            "f968d0dc980f414d856361ea0c3e5973",
            "48efa8a510c14454960eef5af74b6097",
            "4fabf5d0d5a44611bbbc0e7286918df6",
            "0bf31ce9c22d485798c3a12859d92e58",
            "ae9183562d5e45a89abade1e46c5c1fb",
            "1b748b41012d490c8e4268be47b91db9",
            "d72dfb031aff483e80c3d72730bd9ed9",
            "5803a65611024da4a7823fb939752101",
            "d2285d4be599456dbcc34ef53362f45e"
          ]
        },
        "id": "seTpJDTC3OEI",
        "outputId": "2209f5f2-1753-453b-8858-b4a29cc43fd3"
      },
      "execution_count": null,
      "outputs": [
        {
          "output_type": "stream",
          "name": "stderr",
          "text": [
            "/usr/local/lib/python3.10/dist-packages/huggingface_hub/utils/_auth.py:94: UserWarning: \n",
            "The secret `HF_TOKEN` does not exist in your Colab secrets.\n",
            "To authenticate with the Hugging Face Hub, create a token in your settings tab (https://huggingface.co/settings/tokens), set it as secret in your Google Colab and restart your session.\n",
            "You will be able to reuse this secret in all of your notebooks.\n",
            "Please note that authentication is recommended but still optional to access public models or datasets.\n",
            "  warnings.warn(\n"
          ]
        },
        {
          "output_type": "display_data",
          "data": {
            "text/plain": [
              "tokenizer_config.json:   0%|          | 0.00/49.0 [00:00<?, ?B/s]"
            ],
            "application/vnd.jupyter.widget-view+json": {
              "version_major": 2,
              "version_minor": 0,
              "model_id": "1c500aa69ed2460a95d328e2d9ac3b94"
            }
          },
          "metadata": {}
        },
        {
          "output_type": "display_data",
          "data": {
            "text/plain": [
              "vocab.txt:   0%|          | 0.00/110k [00:00<?, ?B/s]"
            ],
            "application/vnd.jupyter.widget-view+json": {
              "version_major": 2,
              "version_minor": 0,
              "model_id": "4a793cd6bc7448d4898f35c34282328c"
            }
          },
          "metadata": {}
        },
        {
          "output_type": "display_data",
          "data": {
            "text/plain": [
              "tokenizer.json:   0%|          | 0.00/269k [00:00<?, ?B/s]"
            ],
            "application/vnd.jupyter.widget-view+json": {
              "version_major": 2,
              "version_minor": 0,
              "model_id": "a9b1e656fd6e4d11bea38c725ce3c7e6"
            }
          },
          "metadata": {}
        },
        {
          "output_type": "display_data",
          "data": {
            "text/plain": [
              "config.json:   0%|          | 0.00/624 [00:00<?, ?B/s]"
            ],
            "application/vnd.jupyter.widget-view+json": {
              "version_major": 2,
              "version_minor": 0,
              "model_id": "b4d4792a425a4fafb07add85c26d617b"
            }
          },
          "metadata": {}
        },
        {
          "output_type": "stream",
          "name": "stdout",
          "text": [
            "BERT Tokenization: ['我', '爱', '自', '然', '语', '言', '处', '理']\n",
            "Token IDs: [2769, 4263, 5632, 4197, 6427, 6241, 1905, 4415]\n"
          ]
        }
      ]
    },
    {
      "cell_type": "code",
      "source": [
        "import re\n",
        "\n",
        "# Chinese text to tokenize\n",
        "text = \"我爱自然语言处理\"\n",
        "\n",
        "# Character-level tokenization\n",
        "tokens = list(text)\n",
        "\n",
        "print(\"Character-Level Tokenization:\", tokens)\n"
      ],
      "metadata": {
        "colab": {
          "base_uri": "https://localhost:8080/"
        },
        "id": "6ZxiTZuU3xxp",
        "outputId": "ebed6735-2f78-4122-e25c-8aa3a6a47063"
      },
      "execution_count": null,
      "outputs": [
        {
          "output_type": "stream",
          "name": "stdout",
          "text": [
            "Character-Level Tokenization: ['我', '爱', '自', '然', '语', '言', '处', '理']\n"
          ]
        }
      ]
    },
    {
      "cell_type": "markdown",
      "source": [
        "**1. No Spaces Between Words**\n",
        "\n",
        " \"我爱自然语言处理\" ==> i love natural language processing\n",
        "\n",
        " 我==>I\n",
        "\n",
        " 爱==>love\n",
        "\n",
        " 自然语言==>natural language\n",
        "\n",
        " 处理==>processing\n"
      ],
      "metadata": {
        "id": "zdHwNJHeB6xK"
      }
    },
    {
      "cell_type": "code",
      "source": [
        "import jieba\n",
        "\n",
        "text = \"我爱自然语言处理\"  # No spaces between words\n",
        "tokens = jieba.lcut(text)\n",
        "print(\"Tokens:\", tokens)\n"
      ],
      "metadata": {
        "colab": {
          "base_uri": "https://localhost:8080/"
        },
        "id": "0rm3BFTP3s6u",
        "outputId": "9148d3e1-daa6-4fd6-98f0-b970cd8e5198"
      },
      "execution_count": null,
      "outputs": [
        {
          "output_type": "stream",
          "name": "stdout",
          "text": [
            "Tokens: ['我', '爱', '自然语言', '处理']\n"
          ]
        }
      ]
    },
    {
      "cell_type": "markdown",
      "source": [
        "**2. Ambiguity in Word Boundaries**\n",
        "\n",
        "Some sequences of characters can be tokenized in multiple ways depending on the context."
      ],
      "metadata": {
        "id": "1A0Ybq4sDWHi"
      }
    },
    {
      "cell_type": "code",
      "source": [
        "text = \"长大了\"  # Ambiguity: \"长大\" (grow up) or \"长\" (long) + \"大\" (big)\n",
        "\n",
        "tokens_1 = jieba.lcut(text)\n",
        "tokens_2 = jieba.lcut_for_search(text)  # Search mode for more granularity\n",
        "\n",
        "print(\"Default Tokenization:\", tokens_1)\n",
        "print(\"Search Mode Tokenization:\", tokens_2)\n"
      ],
      "metadata": {
        "colab": {
          "base_uri": "https://localhost:8080/"
        },
        "id": "ynLhMJAnB_5Y",
        "outputId": "8fb67290-bb82-44d0-86c2-803ce57d4dd4"
      },
      "execution_count": null,
      "outputs": [
        {
          "output_type": "stream",
          "name": "stdout",
          "text": [
            "Default Tokenization: ['长大', '了']\n",
            "Search Mode Tokenization: ['长大', '了']\n"
          ]
        }
      ]
    }
  ]
}